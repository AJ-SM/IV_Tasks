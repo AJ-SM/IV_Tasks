{
  "cells": [
    {
      "cell_type": "code",
      "execution_count": null,
      "metadata": {
        "colab": {
          "base_uri": "https://localhost:8080/"
        },
        "id": "uQHNqggzlBKl",
        "outputId": "4840469b-ef2d-4e7d-a320-2e54d8b44451"
      },
      "outputs": [
        {
          "data": {
            "text/plain": [
              "4"
            ]
          },
          "execution_count": 59,
          "metadata": {},
          "output_type": "execute_result"
        }
      ],
      "source": []
    },
    {
      "cell_type": "markdown",
      "metadata": {
        "id": "14Ea7to75FKK"
      },
      "source": [
        "# LearninigS\n",
        "\n"
      ]
    },
    {
      "cell_type": "code",
      "execution_count": null,
      "metadata": {
        "id": "vaTLHwC25AlN"
      },
      "outputs": [],
      "source": [
        "import torch\n",
        "\n",
        "# Scalar\n",
        "scalar = torch.tensor(4)\n",
        "scalar\n",
        "scalar.ndim\n",
        "scalar.item()"
      ]
    },
    {
      "cell_type": "code",
      "execution_count": null,
      "metadata": {
        "colab": {
          "base_uri": "https://localhost:8080/"
        },
        "id": "9VmXcBpel1Dz",
        "outputId": "54b70e55-f694-4379-a246-913e9306b33a"
      },
      "outputs": [
        {
          "data": {
            "text/plain": [
              "torch.Size([2])"
            ]
          },
          "execution_count": 60,
          "metadata": {},
          "output_type": "execute_result"
        }
      ],
      "source": [
        "# Do Vecotrs\n",
        "vector = torch.tensor([7,7])\n",
        "vector\n",
        "vector.ndim\n",
        "vector.shape"
      ]
    },
    {
      "cell_type": "code",
      "execution_count": null,
      "metadata": {
        "colab": {
          "base_uri": "https://localhost:8080/"
        },
        "id": "VFy3TKqQmDyV",
        "outputId": "9b26be00-2433-4a1f-eed2-825fe80dac20"
      },
      "outputs": [
        {
          "data": {
            "text/plain": [
              "torch.Size([2, 2])"
            ]
          },
          "execution_count": 61,
          "metadata": {},
          "output_type": "execute_result"
        }
      ],
      "source": [
        "#Matrix\n",
        "matrix = torch.tensor([[6,7],[6,5]])\n",
        "matrix\n",
        "matrix.ndim\n",
        "matrix.shape\n"
      ]
    },
    {
      "cell_type": "code",
      "execution_count": null,
      "metadata": {
        "colab": {
          "base_uri": "https://localhost:8080/"
        },
        "id": "eAJKukBBmTdy",
        "outputId": "54213ade-269d-4f40-e154-e17d2df1f26b"
      },
      "outputs": [
        {
          "data": {
            "text/plain": [
              "torch.Size([3, 3])"
            ]
          },
          "execution_count": 62,
          "metadata": {},
          "output_type": "execute_result"
        }
      ],
      "source": [
        "# Making Tensor\n",
        "Tensor = torch.tensor([[1,2,3],[2,3,45],[3,4,5]])\n",
        "Tensor\n",
        "Tensor.ndim\n",
        "Tensor.shape"
      ]
    },
    {
      "cell_type": "code",
      "execution_count": null,
      "metadata": {
        "colab": {
          "base_uri": "https://localhost:8080/"
        },
        "id": "_HE-FHc8mlqE",
        "outputId": "bba8a823-6f4c-4d5e-ed25-62fe4d6823f9"
      },
      "outputs": [
        {
          "data": {
            "text/plain": [
              "tensor([[0.8823, 0.9150, 0.3829, 0.9593],\n",
              "        [0.3904, 0.6009, 0.2566, 0.7936],\n",
              "        [0.9408, 0.1332, 0.9346, 0.5936]])"
            ]
          },
          "execution_count": 63,
          "metadata": {},
          "output_type": "execute_result"
        }
      ],
      "source": [
        "# Making A Random Tensor Of 3x4 it many used to represent the initial the first network\n",
        "random_tensor = torch.rand(size=(3,4))\n",
        "random_tensor"
      ]
    },
    {
      "cell_type": "code",
      "execution_count": null,
      "metadata": {
        "colab": {
          "base_uri": "https://localhost:8080/"
        },
        "id": "SaVdUSukoEij",
        "outputId": "4e12deb2-c641-4c38-c3d9-4d33f9abb479"
      },
      "outputs": [
        {
          "data": {
            "text/plain": [
              "tensor([[0., 0., 0., 0.],\n",
              "        [0., 0., 0., 0.],\n",
              "        [0., 0., 0., 0.]])"
            ]
          },
          "execution_count": 64,
          "metadata": {},
          "output_type": "execute_result"
        }
      ],
      "source": [
        "# Getting Only Zero 3x4 and same for 1\n",
        "zeros = torch.zeros(size=(3,4))\n",
        "zeros"
      ]
    },
    {
      "cell_type": "code",
      "execution_count": null,
      "metadata": {
        "colab": {
          "base_uri": "https://localhost:8080/"
        },
        "id": "Ax1jmnVVoi5-",
        "outputId": "409e7d1c-c66b-409d-85aa-db4188b9de12"
      },
      "outputs": [
        {
          "name": "stderr",
          "output_type": "stream",
          "text": [
            "<ipython-input-65-a91a45114062>:2: UserWarning: torch.range is deprecated and will be removed in a future release because its behavior is inconsistent with Python's range builtin. Instead, use torch.arange, which produces values in [start, end).\n",
            "  tnes = torch.range(start=1,end=10,step=1)\n"
          ]
        },
        {
          "data": {
            "text/plain": [
              "tensor([ 1.,  2.,  3.,  4.,  5.,  6.,  7.,  8.,  9., 10.])"
            ]
          },
          "execution_count": 65,
          "metadata": {},
          "output_type": "execute_result"
        }
      ],
      "source": [
        "# Making Tensors in A particular Range\n",
        "tnes = torch.range(start=1,end=10,step=1)\n",
        "tnes"
      ]
    },
    {
      "cell_type": "code",
      "execution_count": null,
      "metadata": {
        "colab": {
          "base_uri": "https://localhost:8080/"
        },
        "id": "QFqmuFFjoxYB",
        "outputId": "0aa3b493-ad0a-4205-bc91-673321e2dafe"
      },
      "outputs": [
        {
          "data": {
            "text/plain": [
              "tensor([[0., 0., 0., 0.],\n",
              "        [0., 0., 0., 0.],\n",
              "        [0., 0., 0., 0.]])"
            ]
          },
          "execution_count": 66,
          "metadata": {},
          "output_type": "execute_result"
        }
      ],
      "source": [
        "# Copy OF Zeros\n",
        "copy_tnes_zeros = torch.zeros_like(input=zeros)\n",
        "copy_tnes_zeros"
      ]
    },
    {
      "cell_type": "code",
      "execution_count": null,
      "metadata": {
        "colab": {
          "base_uri": "https://localhost:8080/"
        },
        "id": "LSwVxzafpCWq",
        "outputId": "bb4a68a8-2d03-4f27-8baf-30912cce7f25"
      },
      "outputs": [
        {
          "name": "stdout",
          "output_type": "stream",
          "text": [
            "tensor([11, 12, 13])\n",
            "tensor([-9, -8, -7])\n",
            "tensor([10, 20, 30])\n",
            "tensor([0.1000, 0.2000, 0.3000])\n",
            "\n",
            "\n",
            "tensor([34, 35, 25])\n",
            "tensor([-32, -31, -19])\n",
            "tensor([33, 66, 66])\n",
            "tensor([0.0303, 0.0606, 0.1364])\n",
            "tensor(165)\n",
            "tensor(165)\n"
          ]
        }
      ],
      "source": [
        "# Basic Operation\n",
        "temp = torch.tensor([1,2,3])\n",
        "print(temp+10)\n",
        "print(temp-10)\n",
        "print(temp*10)\n",
        "print(temp/10)\n",
        "print('\\n')\n",
        "# Mixed OPeration\n",
        "tem1= torch.tensor([33,33,22])\n",
        "print(temp+tem1)\n",
        "print(temp-tem1)\n",
        "print(temp*tem1)\n",
        "print(temp/tem1)\n",
        "print(temp@tem1)\n",
        "print(torch.matmul(tem1,temp))\n",
        "\n"
      ]
    },
    {
      "cell_type": "code",
      "execution_count": null,
      "metadata": {
        "colab": {
          "base_uri": "https://localhost:8080/"
        },
        "id": "HylhUFpBqdHQ",
        "outputId": "26611268-732b-4a8b-83f9-c956ef7807a7"
      },
      "outputs": [
        {
          "name": "stdout",
          "output_type": "stream",
          "text": [
            "tensor([33, 33, 22])\n",
            "tensor([[1, 1],\n",
            "        [2, 2],\n",
            "        [3, 3],\n",
            "        [4, 4]])\n"
          ]
        }
      ],
      "source": [
        "tem2 = torch.tensor([[1,2,3,4],[1,2,3,4]])\n",
        "print(tem1.T)\n",
        "print(tem2.T)"
      ]
    },
    {
      "cell_type": "code",
      "execution_count": null,
      "metadata": {
        "id": "pKrFZuJkFRNT"
      },
      "outputs": [],
      "source": [
        "# Alway make transpose while multipliye its strange but it thoruws error"
      ]
    },
    {
      "cell_type": "code",
      "execution_count": null,
      "metadata": {
        "colab": {
          "base_uri": "https://localhost:8080/"
        },
        "id": "hRoQTMHJsNit",
        "outputId": "257abb70-a404-4400-961d-6cfe1c478602"
      },
      "outputs": [
        {
          "data": {
            "text/plain": [
              "tensor([1, 3, 5, 7, 9])"
            ]
          },
          "execution_count": 70,
          "metadata": {},
          "output_type": "execute_result"
        }
      ],
      "source": [
        "# Tensor Manipulation\n",
        "\n",
        "x = torch.arange(1,10,2)\n",
        "x"
      ]
    },
    {
      "cell_type": "code",
      "execution_count": null,
      "metadata": {
        "colab": {
          "base_uri": "https://localhost:8080/"
        },
        "id": "C3wJd-yFHn1T",
        "outputId": "cb31752b-1402-4363-8096-e6b00532c039"
      },
      "outputs": [
        {
          "name": "stdout",
          "output_type": "stream",
          "text": [
            "tensor(9)\n",
            "tensor(1)\n",
            "tensor(5.)\n",
            "tensor(25)\n"
          ]
        }
      ],
      "source": [
        "print(x.max())\n",
        "print(x.min())\n",
        "print(torch.mean(x.type(torch.float32)))\n",
        "print(x.sum())"
      ]
    },
    {
      "cell_type": "code",
      "execution_count": null,
      "metadata": {
        "colab": {
          "base_uri": "https://localhost:8080/"
        },
        "id": "lHIUtLqnHvah",
        "outputId": "2f73ba1d-8826-4eb2-c5ff-69235923f287"
      },
      "outputs": [
        {
          "name": "stdout",
          "output_type": "stream",
          "text": [
            "tensor(4)\n",
            "tensor(0)\n"
          ]
        }
      ],
      "source": [
        "print(x.argmax())\n",
        "print(x.argmin())"
      ]
    },
    {
      "cell_type": "code",
      "execution_count": null,
      "metadata": {
        "colab": {
          "base_uri": "https://localhost:8080/"
        },
        "id": "NPmySmPFIM_i",
        "outputId": "0b59b487-f27c-4d41-b00c-41790a281ab6"
      },
      "outputs": [
        {
          "data": {
            "text/plain": [
              "tensor([1., 3., 5., 7., 9.])"
            ]
          },
          "execution_count": 73,
          "metadata": {},
          "output_type": "execute_result"
        }
      ],
      "source": [
        "# Changing The Data type\n",
        "x2 = x.type(torch.float32)\n",
        "x2"
      ]
    },
    {
      "cell_type": "code",
      "execution_count": null,
      "metadata": {
        "id": "_CCWDDgrIkCQ"
      },
      "outputs": [],
      "source": [
        "# Add an extra dimension\n",
        "x_reshaped = x.reshape(1, 5)"
      ]
    },
    {
      "cell_type": "code",
      "execution_count": null,
      "metadata": {
        "colab": {
          "base_uri": "https://localhost:8080/"
        },
        "id": "za7au0ORIpqp",
        "outputId": "9d67169a-8b2e-4079-c83c-6e7f3a89942f"
      },
      "outputs": [
        {
          "data": {
            "text/plain": [
              "tensor([[1, 3, 5, 7, 9]])"
            ]
          },
          "execution_count": 75,
          "metadata": {},
          "output_type": "execute_result"
        }
      ],
      "source": [
        "x_reshaped"
      ]
    },
    {
      "cell_type": "code",
      "execution_count": null,
      "metadata": {
        "id": "L6XuqTd9IuXx"
      },
      "outputs": [],
      "source": [
        "k = x.view(5,1) # changing the k will change x"
      ]
    },
    {
      "cell_type": "code",
      "execution_count": null,
      "metadata": {
        "colab": {
          "base_uri": "https://localhost:8080/"
        },
        "id": "-holb5p9JhQ1",
        "outputId": "dd6b2efa-91fd-42cf-d7b2-73ff153f29bd"
      },
      "outputs": [
        {
          "data": {
            "text/plain": [
              "tensor([[1, 3, 5, 7, 9],\n",
              "        [1, 3, 5, 7, 9],\n",
              "        [1, 3, 5, 7, 9],\n",
              "        [1, 3, 5, 7, 9]])"
            ]
          },
          "execution_count": 77,
          "metadata": {},
          "output_type": "execute_result"
        }
      ],
      "source": [
        "# Stack tensors on top of each other\n",
        "x_stacked = torch.stack([x, x, x, x], dim=0) # try changing dim to dim=1 and see what happens\n",
        "x_stacked"
      ]
    },
    {
      "cell_type": "code",
      "execution_count": null,
      "metadata": {
        "colab": {
          "base_uri": "https://localhost:8080/"
        },
        "id": "HGsqA9dKJsbR",
        "outputId": "389e2667-8647-4622-e036-bde873cbed43"
      },
      "outputs": [
        {
          "data": {
            "text/plain": [
              "tensor([[1, 3, 5, 7, 9],\n",
              "        [1, 3, 5, 7, 9],\n",
              "        [1, 3, 5, 7, 9],\n",
              "        [1, 3, 5, 7, 9]])"
            ]
          },
          "execution_count": 78,
          "metadata": {},
          "output_type": "execute_result"
        }
      ],
      "source": [
        "# Removing A Single Digit form tensor\n",
        "x_stacked.squeeze() # Kill single dimension\n",
        "x_stacked # May be fitting wala kam"
      ]
    },
    {
      "cell_type": "code",
      "execution_count": null,
      "metadata": {
        "colab": {
          "base_uri": "https://localhost:8080/"
        },
        "id": "C6f5lSlTJzj_",
        "outputId": "a68181e2-261a-455a-a241-8f21f999c8f3"
      },
      "outputs": [
        {
          "name": "stdout",
          "output_type": "stream",
          "text": [
            "Previous shape: torch.Size([224, 224, 3])\n",
            "New shape: torch.Size([3, 224, 224])\n"
          ]
        }
      ],
      "source": [
        "# Rearrange or Permute\n",
        "x_original = torch.rand(size=(224, 224, 3))\n",
        "x_permuted = x_original.permute(2, 0, 1) # shifts axis 0->1, 1->2, 2->0\n",
        "print(f\"Previous shape: {x_original.shape}\")\n",
        "print(f\"New shape: {x_permuted.shape}\")"
      ]
    },
    {
      "cell_type": "markdown",
      "metadata": {
        "id": "a-yBMabY9S-1"
      },
      "source": []
    },
    {
      "cell_type": "code",
      "execution_count": null,
      "metadata": {
        "colab": {
          "base_uri": "https://localhost:8080/"
        },
        "id": "I3Kvvn3EKX2g",
        "outputId": "50b9f79b-0e4b-4515-ff3f-05c1a1dacff1"
      },
      "outputs": [
        {
          "data": {
            "text/plain": [
              "(tensor([[[1, 2, 3],\n",
              "          [4, 5, 6],\n",
              "          [7, 8, 9]]]),\n",
              " torch.Size([1, 3, 3]))"
            ]
          },
          "execution_count": 80,
          "metadata": {},
          "output_type": "execute_result"
        }
      ],
      "source": [
        "# Indexing\n",
        "x = torch.arange(1, 10).reshape(1, 3, 3)\n",
        "x, x.shape"
      ]
    },
    {
      "cell_type": "code",
      "execution_count": null,
      "metadata": {
        "colab": {
          "base_uri": "https://localhost:8080/",
          "height": 35
        },
        "id": "u2Ad4j8HKgf1",
        "outputId": "58d93119-d69e-4d86-f174-21021aed70a5"
      },
      "outputs": [
        {
          "data": {
            "application/vnd.google.colaboratory.intrinsic+json": {
              "type": "string"
            },
            "text/plain": [
              "'\\nIndexing values goes outer dimension -> inner dimension (check out the square brackets).'"
            ]
          },
          "execution_count": 81,
          "metadata": {},
          "output_type": "execute_result"
        }
      ],
      "source": [
        "'''\n",
        "Indexing values goes outer dimension -> inner dimension (check out the square brackets).'''\n"
      ]
    },
    {
      "cell_type": "code",
      "execution_count": null,
      "metadata": {
        "colab": {
          "base_uri": "https://localhost:8080/"
        },
        "id": "KNKk-p_x9Upg",
        "outputId": "20f383eb-c904-48ea-a1f9-3a0e40176447"
      },
      "outputs": [
        {
          "name": "stdout",
          "output_type": "stream",
          "text": [
            "tensor([[0.8823, 0.9150, 0.3829, 0.9593],\n",
            "        [0.3904, 0.6009, 0.2566, 0.7936],\n",
            "        [0.9408, 0.1332, 0.9346, 0.5936]])\n",
            "tensor([[0.8694, 0.5677, 0.7411, 0.4294],\n",
            "        [0.8854, 0.5739, 0.2666, 0.6274],\n",
            "        [0.2696, 0.4414, 0.2969, 0.8317]])\n"
          ]
        }
      ],
      "source": [
        "# Reproduciblilty  reduce the randome ness\n",
        "import torch\n",
        "\n",
        "RANDOM_SEED = 42\n",
        "torch.manual_seed(seed=RANDOM_SEED)\n",
        "print(torch.rand(3, 4))\n",
        "print(torch.rand(3, 4))"
      ]
    },
    {
      "cell_type": "code",
      "execution_count": null,
      "metadata": {
        "colab": {
          "base_uri": "https://localhost:8080/"
        },
        "id": "RQrCn_AH9qmL",
        "outputId": "1541f424-135f-41d3-efd4-2ae69ca7ba0b"
      },
      "outputs": [
        {
          "data": {
            "text/plain": [
              "False"
            ]
          },
          "execution_count": 83,
          "metadata": {},
          "output_type": "execute_result"
        }
      ],
      "source": [
        "torch.cuda.is_available()"
      ]
    },
    {
      "cell_type": "code",
      "execution_count": null,
      "metadata": {
        "colab": {
          "base_uri": "https://localhost:8080/",
          "height": 35
        },
        "id": "McEF28Ll-0eF",
        "outputId": "e3cc8a79-ba8a-4579-d170-53eb3f94a131"
      },
      "outputs": [
        {
          "data": {
            "application/vnd.google.colaboratory.intrinsic+json": {
              "type": "string"
            },
            "text/plain": [
              "'cpu'"
            ]
          },
          "execution_count": 84,
          "metadata": {},
          "output_type": "execute_result"
        }
      ],
      "source": [
        "# Setup\n",
        "device = \"cuda\" if torch.cuda.is_available() else \"cpu\"\n",
        "device"
      ]
    },
    {
      "cell_type": "code",
      "execution_count": null,
      "metadata": {
        "colab": {
          "base_uri": "https://localhost:8080/"
        },
        "id": "Ru35GU-j_D0y",
        "outputId": "e326637f-51f0-4309-98e1-6776e54c5e49"
      },
      "outputs": [
        {
          "data": {
            "text/plain": [
              "0"
            ]
          },
          "execution_count": 85,
          "metadata": {},
          "output_type": "execute_result"
        }
      ],
      "source": [
        "torch.cuda.device_count()\n"
      ]
    },
    {
      "cell_type": "code",
      "execution_count": null,
      "metadata": {
        "id": "2-lMAiZX_Ixh"
      },
      "outputs": [],
      "source": [
        "# #Set Gpu\n",
        "# tensor_on_gpuy = torch.to(device) # make a tensor torch\n"
      ]
    },
    {
      "cell_type": "code",
      "execution_count": null,
      "metadata": {
        "id": "vKi1ZCSX_bKK"
      },
      "outputs": [],
      "source": []
    },
    {
      "cell_type": "markdown",
      "metadata": {
        "id": "9w2mblnqH0ga"
      },
      "source": [
        "# ***Making Actual Model***"
      ]
    },
    {
      "cell_type": "code",
      "execution_count": null,
      "metadata": {
        "id": "7C_JusaLH82p"
      },
      "outputs": [],
      "source": [
        "# Requirnments\n",
        "import numpy as np\n",
        "import matplotlib.pyplot as plt\n",
        "import torch\n",
        "import random\n"
      ]
    },
    {
      "cell_type": "code",
      "execution_count": null,
      "metadata": {
        "id": "FCbGpyFoIGvo"
      },
      "outputs": [],
      "source": [
        "# Our Actual Data\n",
        "'''X is the input given and y is the output taken for the given eqn here weight and bias we provide but in general case we have to calculate it  '''\n",
        "weight = 0.7\n",
        "bias = 0.5\n",
        "start = 0\n",
        "step = 0.02\n",
        "end = 1\n",
        "X = torch.arange(start,end,step).unsqueeze(dim=1)\n",
        "y= weight*X+bias\n"
      ]
    },
    {
      "cell_type": "code",
      "execution_count": null,
      "metadata": {
        "colab": {
          "base_uri": "https://localhost:8080/"
        },
        "id": "j6rdDqDlI7Lf",
        "outputId": "19670ec0-555e-4ed1-8771-4efd31fc800d"
      },
      "outputs": [
        {
          "data": {
            "text/plain": [
              "(40, 40, 10, 10)"
            ]
          },
          "execution_count": 89,
          "metadata": {},
          "output_type": "execute_result"
        }
      ],
      "source": [
        "# Making Train Test Split For The Given data\n",
        "# Create train/test split\n",
        "train_split = int(0.8 * len(X)) # 80% of data used for training set, 20% for testing\n",
        "X_train, y_train = X[:train_split], y[:train_split]\n",
        "X_test, y_test = X[train_split:], y[train_split:]\n",
        "\n",
        "len(X_train), len(y_train), len(X_test), len(y_test)"
      ]
    },
    {
      "cell_type": "code",
      "execution_count": null,
      "metadata": {
        "id": "53xtd44HJvIL"
      },
      "outputs": [],
      "source": [
        "def plot_predictions(train_data=X_train,\n",
        "                     train_labels=y_train,\n",
        "                     test_data=X_test,\n",
        "                     test_labels=y_test,\n",
        "                     predictions=None):\n",
        "  \"\"\"\n",
        "  Plots training data, test data and compares predictions.\n",
        "  \"\"\"\n",
        "  plt.figure(figsize=(10, 7))\n",
        "\n",
        "  # Plot training data in blue\n",
        "  plt.scatter(train_data, train_labels, c=\"b\", s=4, label=\"Training data\")\n",
        "\n",
        "  # Plot test data in green\n",
        "  plt.scatter(test_data, test_labels, c=\"g\", s=4, label=\"Testing data\")\n",
        "\n",
        "  if predictions is not None:\n",
        "    # Plot the predictions in red (predictions were made on the test data)\n",
        "    plt.scatter(test_data, predictions, c=\"r\", s=4, label=\"Predictions\")\n",
        "\n",
        "  # Show the legend\n",
        "  plt.legend(prop={\"size\": 14});"
      ]
    },
    {
      "cell_type": "code",
      "execution_count": null,
      "metadata": {
        "colab": {
          "base_uri": "https://localhost:8080/",
          "height": 599
        },
        "id": "2sphNXMiJ70h",
        "outputId": "32bb0e25-d67c-45e3-dcad-19e14f65ee4b"
      },
      "outputs": [
        {
          "data": {
            "image/png": "[encoded data removed]",
            "text/plain": [
              "<Figure size 1000x700 with 1 Axes>"
            ]
          },
          "metadata": {},
          "output_type": "display_data"
        }
      ],
      "source": [
        "plot_predictions()\n"
      ]
    },
    {
      "cell_type": "code",
      "execution_count": null,
      "metadata": {
        "id": "TktR-4DVJ_4B"
      },
      "outputs": [],
      "source": [
        "#Building The MOde\n",
        "from torch import nn\n",
        "class Linear_Regression(nn.Module):\n",
        "  def __init__(self):\n",
        "    super().__init__()\n",
        "    self.weights = nn.Parameter(torch.randn(1, requires_grad=True, dtype=torch.float))\n",
        "    self.bias = nn.Parameter(torch.randn(1,requires_grad =True,dtype= torch.float))\n",
        "  def forward(self,x:torch.Tensor ): # Doing Data Flow Forward\n",
        "    return self.weights*x+self.bias\n",
        "\n"
      ]
    },
    {
      "cell_type": "code",
      "execution_count": null,
      "metadata": {
        "id": "ZEnlMputdn1J"
      },
      "outputs": [],
      "source": []
    },
    {
      "cell_type": "code",
      "execution_count": null,
      "metadata": {
        "colab": {
          "base_uri": "https://localhost:8080/"
        },
        "id": "Rd_a7qL0vEs2",
        "outputId": "b1844be0-43b7-435c-88a5-77610d1679a6"
      },
      "outputs": [
        {
          "data": {
            "text/plain": [
              "[Parameter containing:\n",
              " tensor([0.3367], requires_grad=True),\n",
              " Parameter containing:\n",
              " tensor([0.1288], requires_grad=True)]"
            ]
          },
          "execution_count": 93,
          "metadata": {},
          "output_type": "execute_result"
        }
      ],
      "source": [
        "torch.manual_seed(42)\n",
        "\n",
        "model_0 = Linear_Regression()\n",
        "\n",
        "list(model_0.parameters())\n"
      ]
    },
    {
      "cell_type": "code",
      "execution_count": null,
      "metadata": {
        "colab": {
          "base_uri": "https://localhost:8080/"
        },
        "id": "KH26Y905Qcaq",
        "outputId": "da2d2e74-4700-4f16-c111-bf1bd676d4e2"
      },
      "outputs": [
        {
          "data": {
            "text/plain": [
              "OrderedDict([('weights', tensor([0.3367])), ('bias', tensor([0.1288]))])"
            ]
          },
          "execution_count": 94,
          "metadata": {},
          "output_type": "execute_result"
        }
      ],
      "source": [
        "model_0.state_dict()"
      ]
    },
    {
      "cell_type": "code",
      "execution_count": null,
      "metadata": {
        "colab": {
          "base_uri": "https://localhost:8080/",
          "height": 599
        },
        "id": "rt5uM9JUdyoS",
        "outputId": "8c09b3ce-6c0e-49ba-c008-37b7bf6f036d"
      },
      "outputs": [
        {
          "data": {
            "image/png": "[encoded data removed]",
            "text/plain": [
              "<Figure size 1000x700 with 1 Axes>"
            ]
          },
          "metadata": {},
          "output_type": "display_data"
        }
      ],
      "source": [
        "with torch.inference_mode():\n",
        "    y_preds = model_0(X_test)\n",
        "\n",
        "# making prediction\n",
        "y_preds\n",
        "plot_predictions()\n",
        "\n",
        "plt.scatter(X_test  ,y_preds,c= 'r',label = 'Prediction')\n",
        "\n",
        "plt.show()\n",
        "# The Function Till  Now Is Randome\n",
        "# There For it is way worse program\n"
      ]
    },
    {
      "cell_type": "code",
      "execution_count": null,
      "metadata": {
        "colab": {
          "base_uri": "https://localhost:8080/",
          "height": 599
        },
        "id": "JtTxv2y1fq5i",
        "outputId": "11701084-a17d-4265-c8fe-0c6766ed22bc"
      },
      "outputs": [
        {
          "data": {
            "image/png": "[encoded data removed]",
            "text/plain": [
              "<Figure size 1000x700 with 1 Axes>"
            ]
          },
          "metadata": {},
          "output_type": "display_data"
        }
      ],
      "source": [
        "#Now Trying The Test Looop\n",
        "\n",
        "\n",
        "# First Lets Fixed The randomizatino littel\n",
        "torch.manual_seed(42)\n",
        "# Initilazing The Lost function\n",
        "loss_ = nn.L1Loss()\n",
        "\n",
        "\n",
        "optimize = torch.optim.SGD(params=model_0.parameters(),lr=0.01)\n",
        "\n",
        "epochs = 100\n",
        "train_loss = []\n",
        "test_loss = []\n",
        "epoch_count = []\n",
        "for epoch in range(epochs):\n",
        "  # Enabeling The Training Mode Sets the model to training mode.\n",
        "  #This is necessary for certain layers like dropout and batch normalization, which behave differently during training and evaluation.\n",
        "\n",
        "  model_0.train()\n",
        "  ''' The `model_0.train()` method in PyTorch is used to set the model to training mode. This affects certain layers in the model, like dropout and batch normalization, which have different behaviors during training and evaluation (testing). Let’s break down what this method does under the hood and why it is important.\n",
        "\n",
        "### 1. **Understanding `model_0.train()`**\n",
        "\n",
        "When you call `model_0.train()`, you're instructing the model to switch to training mode. This is a method of the `nn.Module` class in PyTorch, from which all neural network models inherit. The `train()` method primarily does the following:\n",
        "\n",
        "- **Sets the mode for all layers to training mode (`train=True`)**: This changes the internal state of certain layers, like dropout and batch normalization, to ensure they behave appropriately during training.\n",
        "\n",
        "### 2. **Why is `model_0.train()` Important?**\n",
        "\n",
        "Certain layers in neural networks behave differently during training versus testing. These layers include:\n",
        "\n",
        "- **Dropout**: Dropout is a regularization technique that randomly sets some fraction of the input units to zero during training to prevent overfitting. During training, dropout randomly drops out some neurons with a specified probability (`p`), effectively forcing the model to learn more robust features that do not rely on any particular neuron. However, during evaluation (testing), dropout is turned off (all neurons are active), and the output is scaled by the dropout probability `p` to ensure consistency between training and evaluation.\n",
        "\n",
        "- **Batch Normalization**: Batch normalization (BatchNorm) normalizes the input of each mini-batch to improve training speed and stability. During training, batch normalization uses the mean and variance of the current batch of data to normalize the inputs. It also keeps running estimates of the mean and variance of the inputs for each layer, which are then used during evaluation to normalize the data in a consistent way. When the model is in evaluation mode, these running statistics are used instead of the batch statistics.\n",
        "\n",
        "Calling `model_0.train()` ensures that these layers behave correctly in training mode, and the model updates its parameters correctly.\n",
        "\n",
        "### 3. **What Happens Under the Hood?**\n",
        "\n",
        "Under the hood, calling `model_0.train()` triggers the following steps:\n",
        "\n",
        "1. **Sets `self.training` to `True`**: This flag is part of the `nn.Module` class. It is a boolean attribute that indicates whether the model is in training mode or evaluation mode. `self.training` is set to `True` to indicate that the model is in training mode.\n",
        "\n",
        "2. **Recursively Sets All Submodules to Training Mode**: `model_0` is an instance of `nn.Module`, and calling `train()` on it sets all its submodules (layers) to training mode as well. This is important for complex models that contain multiple layers or submodules, such as sequential models or models composed of several smaller components. Each submodule (like `nn.Linear`, `nn.Dropout`, `nn.BatchNorm2d`, etc.) has its own `training` attribute, and `train()` ensures that all these submodules are set to training mode recursively.\n",
        "\n",
        "    - **Dropout Layers**: When a dropout layer (`nn.Dropout`) is in training mode, it randomly zeroes some of the elements of the input tensor with a probability `p` using samples from a Bernoulli distribution.\n",
        "\n",
        "    - **BatchNorm Layers**: For batch normalization layers (`nn.BatchNorm1d`, `nn.BatchNorm2d`, etc.), setting the layer to training mode ensures that the layer uses batch statistics (mean and variance of the batch data) rather than the running estimates.\n",
        "\n",
        "3. **Affects Certain Layers' Behaviors**:\n",
        "    - For **Dropout** (`nn.Dropout`):\n",
        "      - In **training mode**: Randomly zeroes some of the elements of the input tensor with probability `p` and scales the output.\n",
        "      - In **evaluation mode**: Outputs the input directly without any changes.\n",
        "    - For **Batch Normalization** (`nn.BatchNorm1d`, `nn.BatchNorm2d`, etc.):\n",
        "      - In **training mode**: Computes the mean and variance for the current batch and normalizes the input accordingly. Updates running estimates for mean and variance.\n",
        "      - In **evaluation mode**: Uses the running mean and variance accumulated during training to normalize the input.\n",
        "\n",
        "### 4. **How to Check if a Model is in Training Mode**\n",
        "\n",
        "You can check if a model or its layers are in training mode by accessing the `training` attribute directly:\n",
        "\n",
        "```python\n",
        "print(model_0.training)  # Should print True after model_0.train()\n",
        "print(model_0.layer_name.training)  # Check a specific layer\n",
        "```\n",
        "\n",
        "### 5. **Switching to Evaluation Mode**\n",
        "\n",
        "To switch a model to evaluation mode, you would call `model_0.eval()`. This sets `self.training` to `False` and recursively sets all submodules to evaluation mode. The dropout layers will stop dropping out neurons, and batch normalization layers will use the running statistics instead of batch statistics.\n",
        "\n",
        "### 6. **Why This Matters in Practice**\n",
        "\n",
        "Properly setting the model to training or evaluation mode is crucial because:\n",
        "- **Model Performance**: Not setting the correct mode can lead to a mismatch between training and evaluation results. For instance, if dropout is active during evaluation, the model's output will be incorrect, as neurons would randomly be zeroed out.\n",
        "- **Gradient Computation**: During training, gradients need to be computed for backpropagation. The model should be in training mode to ensure correct weight updates.\n",
        "\n",
        "### 7. **Conclusion**\n",
        "\n",
        "In summary, `model_0.train()` is a critical step to ensure your model's layers behave correctly during training, especially for layers like dropout and batch normalization that depend on whether the model is in training or evaluation mode. Forgetting to switch modes can lead to incorrect training, unexpected behavior, and poor model performance. '''\n",
        "\n",
        "\n",
        "  # Passing The Data Forward\n",
        "  y_preds = model_0(X_train) # Feeds the training data X_train through the model to get predictions y_preds.\n",
        "\n",
        "  # Calcuationg The Loss Functino\n",
        "  loss= loss_(y_preds,y_train) #: Computes the training loss between predictions (y_preds) and the actual target values (y_train) using the L1 loss function.\n",
        "\n",
        "  #Reset Loss Optimizer\n",
        "  optimize.zero_grad() #Resets the gradients of the model parameters to zero. This is important because gradients in PyTorch accumulate by default.\n",
        "\n",
        "\n",
        "  # Computes the gradient of the loss with respect to the model parameters using backpropagation.\n",
        "  loss.backward()\n",
        "  '''\n",
        "The `loss.backward()` function in PyTorch is a crucial step in the process of training a neural network. It computes the gradients of the loss function with respect to the model's parameters, which are then used to update the model parameters during optimization. Let’s break down what happens under the hood when `loss.backward()` is called:\n",
        "\n",
        "### 1. **Computing the Gradient**\n",
        "\n",
        "When you call `loss.backward()`, PyTorch performs the following operations:\n",
        "\n",
        "1. **Backward Pass**: The function initiates a backward pass through the computational graph. The computational graph is a directed acyclic graph (DAG) that represents the sequence of operations and tensors involved in computing the loss. Each operation node in the graph is connected to its inputs and outputs.\n",
        "\n",
        "2. **Gradient Calculation**: PyTorch uses the autograd (automatic differentiation) engine to compute the gradients. Here's a detailed process of how this works:\n",
        "   - **Chain Rule Application**: For each parameter in the model, PyTorch applies the chain rule of calculus to compute the gradient of the loss with respect to that parameter. The chain rule allows us to compute the gradient of a function with respect to some variable by decomposing it into simpler parts.\n",
        "   - **Propagation of Gradients**: Gradients are propagated backward through the graph from the output (the loss) to the inputs (the parameters). This involves traversing the graph in reverse order and applying the gradients of the intermediate operations to compute the gradients of the parameters.\n",
        "\n",
        "3. **Storing Gradients**: The computed gradients are stored in the `.grad` attribute of the model parameters. For example, if `weights` is a parameter of the model, after `loss.backward()`, `weights.grad` will contain the gradient of the loss with respect to `weights`.\n",
        "\n",
        "### 2. **Detailed Steps in `loss.backward()`**\n",
        "\n",
        "Here is a more detailed look at what happens:\n",
        "\n",
        "1. **Loss Tensor**: Assume `loss` is a tensor representing the loss value. This tensor has been computed as a result of passing inputs through the model and comparing the model’s predictions to the true values.\n",
        "\n",
        "2. **Backward Function Call**: When you call `loss.backward()`, PyTorch’s autograd engine:\n",
        "   - **Traverses the Graph**: Begins at the `loss` tensor and traverses the computational graph in reverse order.\n",
        "   - **Computes Gradients for Each Node**: For each node (operation) in the graph, it calculates the derivative of the loss with respect to the inputs of that node using the chain rule.\n",
        "   - **Accumulates Gradients**: Updates the `.grad` attribute of each parameter with the computed gradient. If a parameter already has a gradient, the new gradient is accumulated (added) to the existing one.\n",
        "\n",
        "3. **Graph Cleanup**: After the backward pass, the computational graph is often cleaned up if it’s no longer needed. This helps free up memory and resources.\n",
        "\n",
        "### 3. **Importance of `loss.backward()`**\n",
        "\n",
        "- **Gradient Computation**: `loss.backward()` computes the gradients required for the optimization step. Without these gradients, the optimizer would not know how to update the model parameters to reduce the loss.\n",
        "\n",
        "- **Autograd Engine**: PyTorch’s autograd engine automates the differentiation process, making it easier to build and train complex models without manually computing gradients.\n",
        "\n",
        "- **Parameter Updates**: The gradients stored in `.grad` are used by the optimizer (e.g., `torch.optim.SGD`, `torch.optim.Adam`) to adjust the model parameters. The optimizer applies these gradients to minimize the loss function, which ideally improves model performance.\n",
        "\n",
        "### 4. **Example Usage**\n",
        "\n",
        "Here’s a typical example of how `loss.backward()` fits into the training loop:\n",
        "\n",
        "```python\n",
        "for epoch in range(epochs):\n",
        "    model.train()  # Set the model to training mode\n",
        "    optimizer.zero_grad()  # Zero the gradients before the backward pass\n",
        "    y_preds = model(X_train)  # Forward pass\n",
        "    loss = loss_fn(y_preds, y_train)  # Compute the loss\n",
        "    loss.backward()  # Compute gradients\n",
        "    optimizer.step()  # Update model parameters\n",
        "```\n",
        "\n",
        "- **`optimizer.zero_grad()`**: Clears the old gradients from the previous step before the new gradients are computed.\n",
        "- **`loss.backward()`**: Computes the gradients of the loss with respect to the model parameters.\n",
        "- **`optimizer.step()`**: Updates the model parameters using the computed gradients.\n",
        "\n",
        "### 5. **Summary**\n",
        "\n",
        "In summary, `loss.backward()` performs the following key operations:\n",
        "- Computes gradients of the loss function with respect to each parameter in the model by traversing the computational graph in reverse and applying the chain rule.\n",
        "- Stores these gradients in the `.grad` attributes of the parameters.\n",
        "- Enables the optimizer to adjust the parameters to minimize the loss function and improve model performance.\n",
        "\n",
        "This process is essential for training neural networks using gradient-based optimization methods.'''\n",
        "\n",
        "\n",
        "\n",
        "  #Updates the model parameters using the computed gradients to minimize the loss.\n",
        "  optimize.step()\n",
        "\n",
        "\n",
        "\n",
        "\n",
        "  '''\n",
        "\n",
        "  The `optimize.step()` function in PyTorch is a crucial step in the model training process. It is used to update the model parameters based on the gradients computed during the backward pass. To understand what `optimize.step()` does under the hood, let’s delve into the details of its operation and the role it plays in optimizing the model.\n",
        "\n",
        "### 1. **Overview of `optimize.step()`**\n",
        "\n",
        "When you call `optimize.step()`, the optimizer updates the model's parameters based on the gradients stored in the `.grad` attributes of the parameters. The optimizer uses these gradients to adjust the parameters in a way that minimizes the loss function.\n",
        "\n",
        "### 2. **What Happens During `optimize.step()`**\n",
        "\n",
        "Here’s a detailed breakdown of the operations that occur during `optimize.step()`:\n",
        "\n",
        "#### **1. Retrieve Parameter Gradients**\n",
        "\n",
        "The optimizer retrieves the gradients stored in the `.grad` attributes of the model parameters. These gradients were computed during the call to `loss.backward()`.\n",
        "\n",
        "#### **2. Update Parameters**\n",
        "\n",
        "The optimizer updates each parameter based on the gradient and the optimization algorithm's update rules. The specific update rule depends on the type of optimizer you are using. Below are some common optimizers and their update rules:\n",
        "\n",
        "- **Stochastic Gradient Descent (SGD)**\n",
        "\n",
        "  For each parameter \\( \\theta \\), the update rule is:\n",
        "  \\[\n",
        "  \\theta = \\theta - \\text{learning\\_rate} \\times \\text{gradient}\n",
        "  \\]\n",
        "  Here, `learning_rate` is a hyperparameter that controls the step size of the update.\n",
        "\n",
        "- **Momentum**\n",
        "\n",
        "  Momentum is an extension of SGD that helps accelerate gradients vectors in the right directions, thus leading to faster converging. The update rule involves an additional term called momentum:\n",
        "  \\[\n",
        "  v = \\text{momentum} \\times v - \\text{learning\\_rate} \\times \\text{gradient}\n",
        "  \\]\n",
        "  \\[\n",
        "  \\theta = \\theta + v\n",
        "  \\]\n",
        "  Where \\( v \\) is the velocity term that accumulates the gradients over time.\n",
        "\n",
        "- **Adam (Adaptive Moment Estimation)**\n",
        "\n",
        "  Adam combines the advantages of two other extensions of SGD: AdaGrad and RMSProp. The update rule involves computing moving averages of the gradients and their squares:\n",
        "  \\[\n",
        "  m = \\beta_1 \\times m + (1 - \\beta_1) \\times \\text{gradient}\n",
        "  \\]\n",
        "  \\[\n",
        "  v = \\beta_2 \\times v + (1 - \\beta_2) \\times \\text{gradient}^2\n",
        "  \\]\n",
        "  \\[\n",
        "  \\hat{m} = \\frac{m}{1 - \\beta_1^t}\n",
        "  \\]\n",
        "  \\[\n",
        "  \\hat{v} = \\frac{v}{1 - \\beta_2^t}\n",
        "  \\]\n",
        "  \\[\n",
        "  \\theta = \\theta - \\text{learning\\_rate} \\times \\frac{\\hat{m}}{\\sqrt{\\hat{v}} + \\epsilon}\n",
        "  \\]\n",
        "  Here, \\( m \\) and \\( v \\) are the first and second moments of the gradients, and \\( \\epsilon \\) is a small constant to prevent division by zero.\n",
        "\n",
        "#### **3. Apply Parameter Updates**\n",
        "\n",
        "After computing the updated values, the optimizer applies these updates to the model parameters. Each parameter's value is adjusted based on the computed update rule.\n",
        "\n",
        "#### **4. Handle Parameter State**\n",
        "\n",
        "Some optimizers maintain internal states for parameters, such as the velocity in momentum-based optimizers or moving averages in Adam. `optimize.step()` updates these internal states along with the parameters.\n",
        "\n",
        "### 3. **Example of `optimize.step()` in Action**\n",
        "\n",
        "Here is how `optimize.step()` fits into a typical training loop:\n",
        "\n",
        "```python\n",
        "# Assume `model` is an instance of a PyTorch model and `optimizer` is an instance of an optimizer\n",
        "\n",
        "for epoch in range(epochs):\n",
        "    model.train()  # Set the model to training mode\n",
        "    optimizer.zero_grad()  # Clear previous gradients\n",
        "    y_preds = model(X_train)  # Forward pass\n",
        "    loss = loss_fn(y_preds, y_train)  # Compute the loss\n",
        "    loss.backward()  # Compute gradients\n",
        "    optimizer.step()  # Update parameters\n",
        "```\n",
        "\n",
        "### 4. **Detailed Explanation of `optimizer.step()`**\n",
        "\n",
        "Here is a more detailed step-by-step process of what happens inside `optimizer.step()`:\n",
        "\n",
        "1. **Access Gradients**: The optimizer accesses the gradients of each parameter from the `.grad` attribute. These gradients were computed by `loss.backward()`.\n",
        "\n",
        "2. **Apply Update Rule**: Depending on the optimizer type (e.g., SGD, Adam), the optimizer applies the corresponding update rule to adjust the parameters. This involves:\n",
        "   - Computing the new parameter values using the gradients and update rules.\n",
        "   - Storing these new values back into the parameters.\n",
        "\n",
        "3. **Update Parameter States**: If the optimizer maintains any internal states (e.g., momentum terms or moving averages), it updates these states as part of the parameter update process.\n",
        "\n",
        "4. **Move to Next Iteration**: The optimizer prepares for the next iteration by setting up internal states or clearing accumulated gradients if needed.\n",
        "\n",
        "### 5. **Summary**\n",
        "\n",
        "- **`optimize.step()`** is the function that performs the actual parameter updates using the computed gradients.\n",
        "- **Different Optimizers**: Different optimizers have different update rules, but they all aim to minimize the loss function by adjusting the model parameters in the direction that reduces the loss.\n",
        "- **Internal State**: Some optimizers maintain internal states (e.g., momentum, moving averages) that are also updated during the `step()` call.\n",
        "\n",
        "In summary, `optimize.step()` is a crucial part of the training loop that applies the gradient-based update rules to model parameters, helping the model learn and improve over time.\n",
        "  '''\n",
        "\n",
        "\n",
        "\n",
        "\n",
        "\n",
        "\n",
        "  #Sets the model to evaluation mode. This is necessary for layers like dropout and batch normalization to behave correctly during inference.\n",
        "  model_0.eval()\n",
        "\n",
        "  #\n",
        "  with torch.inference_mode():\n",
        "    test_preds = model_0(X_test)\n",
        "\n",
        "    tests_loss = loss_(test_preds, y_test.type(torch.float))\n",
        "  epoch_count.append(epoch)\n",
        "  train_loss.append(loss.item())\n",
        "  test_loss.append(tests_loss.item())\n",
        "\n",
        "\n",
        "with torch.inference_mode():\n",
        "    y_preds = model_0(X_test)\n",
        "\n",
        "# making prediction\n",
        "y_preds\n",
        "plot_predictions()\n",
        "\n",
        "plt.scatter(X ,y,c= 'b',label = 'Prediction')\n",
        "plt.plot(X_test  ,y_preds,c= 'r',label = 'Prediction')\n",
        "\n",
        "plt.show()"
      ]
    },
    {
      "cell_type": "code",
      "execution_count": null,
      "metadata": {
        "colab": {
          "base_uri": "https://localhost:8080/",
          "height": 430
        },
        "id": "wpaW31uoiIbe",
        "outputId": "a4478cde-c762-40db-e573-8058846758d7"
      },
      "outputs": [
        {
          "data": {
            "image/png": "[encoded data removed]",
            "text/plain": [
              "<Figure size 640x480 with 1 Axes>"
            ]
          },
          "metadata": {},
          "output_type": "display_data"
        }
      ],
      "source": [
        "plt.plot(train_loss)\n",
        "plt.plot(test_loss)\n",
        "plt.show()\n"
      ]
    },
    {
      "cell_type": "code",
      "execution_count": null,
      "metadata": {
        "id": "gRVNSG6hldN4"
      },
      "outputs": [],
      "source": []
    },
    {
      "cell_type": "markdown",
      "metadata": {
        "id": "Hd0-kB3MFJiZ"
      },
      "source": [
        "# ***Classification Problem ***"
      ]
    },
    {
      "cell_type": "code",
      "execution_count": null,
      "metadata": {
        "id": "r4BUkqE9FQq4"
      },
      "outputs": [],
      "source": [
        "# !pip install sklearn\n"
      ]
    },
    {
      "cell_type": "code",
      "execution_count": null,
      "metadata": {
        "id": "YN9LIjO4Fhnn"
      },
      "outputs": [],
      "source": [
        "from sklearn.datasets import make_circles\n",
        "import matplotlib.pyplot as plt\n",
        "import torch\n",
        "\n",
        "n_smaples = 1000\n",
        "\n",
        "X,y = make_circles(n_smaples,noise = 0.03, random_state=42)"
      ]
    },
    {
      "cell_type": "code",
      "execution_count": null,
      "metadata": {
        "colab": {
          "base_uri": "https://localhost:8080/",
          "height": 363
        },
        "id": "OK5iglGBF5tM",
        "outputId": "7eafcb66-644a-454f-bc88-ac4ce5f83130"
      },
      "outputs": [
        {
          "data": {
            "application/vnd.google.colaboratory.intrinsic+json": {
              "summary": "{\n  \"name\": \"circles\",\n  \"rows\": 1000,\n  \"fields\": [\n    {\n      \"column\": \"X1\",\n      \"properties\": {\n        \"dtype\": \"number\",\n        \"std\": 0.6398365674574613,\n        \"min\": -1.0595024599098635,\n        \"max\": 1.0337117525463373,\n        \"num_unique_values\": 1000,\n        \"samples\": [\n          -0.3751930206933384,\n          0.015380346701456493,\n          -0.7027835978832848\n        ],\n        \"semantic_type\": \"\",\n        \"description\": \"\"\n      }\n    },\n    {\n      \"column\": \"X2\",\n      \"properties\": {\n        \"dtype\": \"number\",\n        \"std\": 0.6411559581015384,\n        \"min\": -1.0677683182718436,\n        \"max\": 1.0360036756154805,\n        \"num_unique_values\": 1000,\n        \"samples\": [\n          0.6826597225888621,\n          0.9600260220697324,\n          -0.3147169925147762\n        ],\n        \"semantic_type\": \"\",\n        \"description\": \"\"\n      }\n    },\n    {\n      \"column\": \"label\",\n      \"properties\": {\n        \"dtype\": \"number\",\n        \"std\": 0,\n        \"min\": 0,\n        \"max\": 1,\n        \"num_unique_values\": 2,\n        \"samples\": [\n          0,\n          1\n        ],\n        \"semantic_type\": \"\",\n        \"description\": \"\"\n      }\n    }\n  ]\n}",
              "type": "dataframe",
              "variable_name": "circles"
            },
            "text/html": [
              "\n",
              "  <div id=\"df-21093cdb-05a5-453f-9dd1-9f57758f7b24\" class=\"colab-df-container\">\n",
              "    <div>\n",
              "<style scoped>\n",
              "    .dataframe tbody tr th:only-of-type {\n",
              "        vertical-align: middle;\n",
              "    }\n",
              "\n",
              "    .dataframe tbody tr th {\n",
              "        vertical-align: top;\n",
              "    }\n",
              "\n",
              "    .dataframe thead th {\n",
              "        text-align: right;\n",
              "    }\n",
              "</style>\n",
              "<table border=\"1\" class=\"dataframe\">\n",
              "  <thead>\n",
              "    <tr style=\"text-align: right;\">\n",
              "      <th></th>\n",
              "      <th>X1</th>\n",
              "      <th>X2</th>\n",
              "      <th>label</th>\n",
              "    </tr>\n",
              "  </thead>\n",
              "  <tbody>\n",
              "    <tr>\n",
              "      <th>0</th>\n",
              "      <td>0.754246</td>\n",
              "      <td>0.231481</td>\n",
              "      <td>1</td>\n",
              "    </tr>\n",
              "    <tr>\n",
              "      <th>1</th>\n",
              "      <td>-0.756159</td>\n",
              "      <td>0.153259</td>\n",
              "      <td>1</td>\n",
              "    </tr>\n",
              "    <tr>\n",
              "      <th>2</th>\n",
              "      <td>-0.815392</td>\n",
              "      <td>0.173282</td>\n",
              "      <td>1</td>\n",
              "    </tr>\n",
              "    <tr>\n",
              "      <th>3</th>\n",
              "      <td>-0.393731</td>\n",
              "      <td>0.692883</td>\n",
              "      <td>1</td>\n",
              "    </tr>\n",
              "    <tr>\n",
              "      <th>4</th>\n",
              "      <td>0.442208</td>\n",
              "      <td>-0.896723</td>\n",
              "      <td>0</td>\n",
              "    </tr>\n",
              "    <tr>\n",
              "      <th>5</th>\n",
              "      <td>-0.479646</td>\n",
              "      <td>0.676435</td>\n",
              "      <td>1</td>\n",
              "    </tr>\n",
              "    <tr>\n",
              "      <th>6</th>\n",
              "      <td>-0.013648</td>\n",
              "      <td>0.803349</td>\n",
              "      <td>1</td>\n",
              "    </tr>\n",
              "    <tr>\n",
              "      <th>7</th>\n",
              "      <td>0.771513</td>\n",
              "      <td>0.147760</td>\n",
              "      <td>1</td>\n",
              "    </tr>\n",
              "    <tr>\n",
              "      <th>8</th>\n",
              "      <td>-0.169322</td>\n",
              "      <td>-0.793456</td>\n",
              "      <td>1</td>\n",
              "    </tr>\n",
              "    <tr>\n",
              "      <th>9</th>\n",
              "      <td>-0.121486</td>\n",
              "      <td>1.021509</td>\n",
              "      <td>0</td>\n",
              "    </tr>\n",
              "  </tbody>\n",
              "</table>\n",
              "</div>\n",
              "    <div class=\"colab-df-buttons\">\n",
              "\n",
              "  <div class=\"colab-df-container\">\n",
              "    <button class=\"colab-df-convert\" onclick=\"convertToInteractive('df-21093cdb-05a5-453f-9dd1-9f57758f7b24')\"\n",
              "            title=\"Convert this dataframe to an interactive table.\"\n",
              "            style=\"display:none;\">\n",
              "\n",
              "  <svg xmlns=\"http://www.w3.org/2000/svg\" height=\"24px\" viewBox=\"0 -960 960 960\">\n",
              "    <path d=\"M120-120v-720h720v720H120Zm60-500h600v-160H180v160Zm220 220h160v-160H400v160Zm0 220h160v-160H400v160ZM180-400h160v-160H180v160Zm440 0h160v-160H620v160ZM180-180h160v-160H180v160Zm440 0h160v-160H620v160Z\"/>\n",
              "  </svg>\n",
              "    </button>\n",
              "\n",
              "  <style>\n",
              "    .colab-df-container {\n",
              "      display:flex;\n",
              "      gap: 12px;\n",
              "    }\n",
              "\n",
              "    .colab-df-convert {\n",
              "      background-color: #E8F0FE;\n",
              "      border: none;\n",
              "      border-radius: 50%;\n",
              "      cursor: pointer;\n",
              "      display: none;\n",
              "      fill: #1967D2;\n",
              "      height: 32px;\n",
              "      padding: 0 0 0 0;\n",
              "      width: 32px;\n",
              "    }\n",
              "\n",
              "    .colab-df-convert:hover {\n",
              "      background-color: #E2EBFA;\n",
              "      box-shadow: 0px 1px 2px rgba(60, 64, 67, 0.3), 0px 1px 3px 1px rgba(60, 64, 67, 0.15);\n",
              "      fill: #174EA6;\n",
              "    }\n",
              "\n",
              "    .colab-df-buttons div {\n",
              "      margin-bottom: 4px;\n",
              "    }\n",
              "\n",
              "    [theme=dark] .colab-df-convert {\n",
              "      background-color: #3B4455;\n",
              "      fill: #D2E3FC;\n",
              "    }\n",
              "\n",
              "    [theme=dark] .colab-df-convert:hover {\n",
              "      background-color: #434B5C;\n",
              "      box-shadow: 0px 1px 3px 1px rgba(0, 0, 0, 0.15);\n",
              "      filter: drop-shadow(0px 1px 2px rgba(0, 0, 0, 0.3));\n",
              "      fill: #FFFFFF;\n",
              "    }\n",
              "  </style>\n",
              "\n",
              "    <script>\n",
              "      const buttonEl =\n",
              "        document.querySelector('#df-21093cdb-05a5-453f-9dd1-9f57758f7b24 button.colab-df-convert');\n",
              "      buttonEl.style.display =\n",
              "        google.colab.kernel.accessAllowed ? 'block' : 'none';\n",
              "\n",
              "      async function convertToInteractive(key) {\n",
              "        const element = document.querySelector('#df-21093cdb-05a5-453f-9dd1-9f57758f7b24');\n",
              "        const dataTable =\n",
              "          await google.colab.kernel.invokeFunction('convertToInteractive',\n",
              "                                                    [key], {});\n",
              "        if (!dataTable) return;\n",
              "\n",
              "        const docLinkHtml = 'Like what you see? Visit the ' +\n",
              "          '<a target=\"_blank\" href=https://colab.research.google.com/notebooks/data_table.ipynb>data table notebook</a>'\n",
              "          + ' to learn more about interactive tables.';\n",
              "        element.innerHTML = '';\n",
              "        dataTable['output_type'] = 'display_data';\n",
              "        await google.colab.output.renderOutput(dataTable, element);\n",
              "        const docLink = document.createElement('div');\n",
              "        docLink.innerHTML = docLinkHtml;\n",
              "        element.appendChild(docLink);\n",
              "      }\n",
              "    </script>\n",
              "  </div>\n",
              "\n",
              "\n",
              "<div id=\"df-eecebddc-8f40-415f-9b7e-8fa10afb1ced\">\n",
              "  <button class=\"colab-df-quickchart\" onclick=\"quickchart('df-eecebddc-8f40-415f-9b7e-8fa10afb1ced')\"\n",
              "            title=\"Suggest charts\"\n",
              "            style=\"display:none;\">\n",
              "\n",
              "<svg xmlns=\"http://www.w3.org/2000/svg\" height=\"24px\"viewBox=\"0 0 24 24\"\n",
              "     width=\"24px\">\n",
              "    <g>\n",
              "        <path d=\"M19 3H5c-1.1 0-2 .9-2 2v14c0 1.1.9 2 2 2h14c1.1 0 2-.9 2-2V5c0-1.1-.9-2-2-2zM9 17H7v-7h2v7zm4 0h-2V7h2v10zm4 0h-2v-4h2v4z\"/>\n",
              "    </g>\n",
              "</svg>\n",
              "  </button>\n",
              "\n",
              "<style>\n",
              "  .colab-df-quickchart {\n",
              "      --bg-color: #E8F0FE;\n",
              "      --fill-color: #1967D2;\n",
              "      --hover-bg-color: #E2EBFA;\n",
              "      --hover-fill-color: #174EA6;\n",
              "      --disabled-fill-color: #AAA;\n",
              "      --disabled-bg-color: #DDD;\n",
              "  }\n",
              "\n",
              "  [theme=dark] .colab-df-quickchart {\n",
              "      --bg-color: #3B4455;\n",
              "      --fill-color: #D2E3FC;\n",
              "      --hover-bg-color: #434B5C;\n",
              "      --hover-fill-color: #FFFFFF;\n",
              "      --disabled-bg-color: #3B4455;\n",
              "      --disabled-fill-color: #666;\n",
              "  }\n",
              "\n",
              "  .colab-df-quickchart {\n",
              "    background-color: var(--bg-color);\n",
              "    border: none;\n",
              "    border-radius: 50%;\n",
              "    cursor: pointer;\n",
              "    display: none;\n",
              "    fill: var(--fill-color);\n",
              "    height: 32px;\n",
              "    padding: 0;\n",
              "    width: 32px;\n",
              "  }\n",
              "\n",
              "  .colab-df-quickchart:hover {\n",
              "    background-color: var(--hover-bg-color);\n",
              "    box-shadow: 0 1px 2px rgba(60, 64, 67, 0.3), 0 1px 3px 1px rgba(60, 64, 67, 0.15);\n",
              "    fill: var(--button-hover-fill-color);\n",
              "  }\n",
              "\n",
              "  .colab-df-quickchart-complete:disabled,\n",
              "  .colab-df-quickchart-complete:disabled:hover {\n",
              "    background-color: var(--disabled-bg-color);\n",
              "    fill: var(--disabled-fill-color);\n",
              "    box-shadow: none;\n",
              "  }\n",
              "\n",
              "  .colab-df-spinner {\n",
              "    border: 2px solid var(--fill-color);\n",
              "    border-color: transparent;\n",
              "    border-bottom-color: var(--fill-color);\n",
              "    animation:\n",
              "      spin 1s steps(1) infinite;\n",
              "  }\n",
              "\n",
              "  @keyframes spin {\n",
              "    0% {\n",
              "      border-color: transparent;\n",
              "      border-bottom-color: var(--fill-color);\n",
              "      border-left-color: var(--fill-color);\n",
              "    }\n",
              "    20% {\n",
              "      border-color: transparent;\n",
              "      border-left-color: var(--fill-color);\n",
              "      border-top-color: var(--fill-color);\n",
              "    }\n",
              "    30% {\n",
              "      border-color: transparent;\n",
              "      border-left-color: var(--fill-color);\n",
              "      border-top-color: var(--fill-color);\n",
              "      border-right-color: var(--fill-color);\n",
              "    }\n",
              "    40% {\n",
              "      border-color: transparent;\n",
              "      border-right-color: var(--fill-color);\n",
              "      border-top-color: var(--fill-color);\n",
              "    }\n",
              "    60% {\n",
              "      border-color: transparent;\n",
              "      border-right-color: var(--fill-color);\n",
              "    }\n",
              "    80% {\n",
              "      border-color: transparent;\n",
              "      border-right-color: var(--fill-color);\n",
              "      border-bottom-color: var(--fill-color);\n",
              "    }\n",
              "    90% {\n",
              "      border-color: transparent;\n",
              "      border-bottom-color: var(--fill-color);\n",
              "    }\n",
              "  }\n",
              "</style>\n",
              "\n",
              "  <script>\n",
              "    async function quickchart(key) {\n",
              "      const quickchartButtonEl =\n",
              "        document.querySelector('#' + key + ' button');\n",
              "      quickchartButtonEl.disabled = true;  // To prevent multiple clicks.\n",
              "      quickchartButtonEl.classList.add('colab-df-spinner');\n",
              "      try {\n",
              "        const charts = await google.colab.kernel.invokeFunction(\n",
              "            'suggestCharts', [key], {});\n",
              "      } catch (error) {\n",
              "        console.error('Error during call to suggestCharts:', error);\n",
              "      }\n",
              "      quickchartButtonEl.classList.remove('colab-df-spinner');\n",
              "      quickchartButtonEl.classList.add('colab-df-quickchart-complete');\n",
              "    }\n",
              "    (() => {\n",
              "      let quickchartButtonEl =\n",
              "        document.querySelector('#df-eecebddc-8f40-415f-9b7e-8fa10afb1ced button');\n",
              "      quickchartButtonEl.style.display =\n",
              "        google.colab.kernel.accessAllowed ? 'block' : 'none';\n",
              "    })();\n",
              "  </script>\n",
              "</div>\n",
              "\n",
              "    </div>\n",
              "  </div>\n"
            ],
            "text/plain": [
              "         X1        X2  label\n",
              "0  0.754246  0.231481      1\n",
              "1 -0.756159  0.153259      1\n",
              "2 -0.815392  0.173282      1\n",
              "3 -0.393731  0.692883      1\n",
              "4  0.442208 -0.896723      0\n",
              "5 -0.479646  0.676435      1\n",
              "6 -0.013648  0.803349      1\n",
              "7  0.771513  0.147760      1\n",
              "8 -0.169322 -0.793456      1\n",
              "9 -0.121486  1.021509      0"
            ]
          },
          "execution_count": 4,
          "metadata": {},
          "output_type": "execute_result"
        }
      ],
      "source": [
        "import pandas as pd\n",
        "circles = pd.DataFrame({\n",
        "    \"X1\": X[:, 0],\n",
        "    \"X2\": X[:, 1],\n",
        "    \"label\": y\n",
        "})\n",
        "circles.head(10)\n"
      ]
    },
    {
      "cell_type": "code",
      "execution_count": null,
      "metadata": {
        "colab": {
          "base_uri": "https://localhost:8080/",
          "height": 430
        },
        "id": "e5qSbodCGZjA",
        "outputId": "255003ef-e45a-4ff0-d32d-de11781b0394"
      },
      "outputs": [
        {
          "data": {
            "image/png": "[encoded data removed]",
            "text/plain": [
              "<Figure size 640x480 with 1 Axes>"
            ]
          },
          "metadata": {},
          "output_type": "display_data"
        }
      ],
      "source": [
        "# Visualize with a plot\n",
        "import matplotlib.pyplot as plt\n",
        "plt.scatter(x=X[:, 0],\n",
        "            y=X[:, 1],\n",
        "            c=y,\n",
        "            cmap=plt.cm.RdYlBu);"
      ]
    },
    {
      "cell_type": "code",
      "execution_count": null,
      "metadata": {
        "colab": {
          "base_uri": "https://localhost:8080/"
        },
        "id": "yQXnyWJ_GZmT",
        "outputId": "815f709a-f47d-4afd-f1b4-ec4262ed1359"
      },
      "outputs": [
        {
          "data": {
            "text/plain": [
              "(tensor([[ 0.7542,  0.2315],\n",
              "         [-0.7562,  0.1533],\n",
              "         [-0.8154,  0.1733],\n",
              "         [-0.3937,  0.6929],\n",
              "         [ 0.4422, -0.8967],\n",
              "         [-0.4796,  0.6764],\n",
              "         [-0.0136,  0.8033],\n",
              "         [ 0.7715,  0.1478],\n",
              "         [-0.1693, -0.7935],\n",
              "         [-0.1215,  1.0215]]),\n",
              " tensor([1., 1., 1., 1., 0., 1., 1., 1., 1., 0.]))"
            ]
          },
          "execution_count": 6,
          "metadata": {},
          "output_type": "execute_result"
        }
      ],
      "source": [
        "# Making Tesonr From Data\n",
        "X = torch.from_numpy(X).type(torch.float32)\n",
        "y = torch.from_numpy(y).type(torch.float32)\n",
        "X[:10],y[:10]\n"
      ]
    },
    {
      "cell_type": "code",
      "execution_count": null,
      "metadata": {
        "id": "5vhFXNzA5PNd"
      },
      "outputs": [],
      "source": [
        "# Including SKlearn for train test split\n",
        "from sklearn.model_selection import train_test_split\n",
        "X_train,X_test,y_train,y_test = train_test_split(X,y,test_size= 0.2,random_state=42)\n",
        "\n"
      ]
    },
    {
      "cell_type": "code",
      "execution_count": null,
      "metadata": {
        "colab": {
          "base_uri": "https://localhost:8080/",
          "height": 36
        },
        "id": "puh7YVv952Li",
        "outputId": "a481a38a-5701-4dc9-a9e4-f6111a0fa34f"
      },
      "outputs": [
        {
          "data": {
            "application/vnd.google.colaboratory.intrinsic+json": {
              "type": "string"
            },
            "text/plain": [
              "'cpu'"
            ]
          },
          "execution_count": 8,
          "metadata": {},
          "output_type": "execute_result"
        }
      ],
      "source": [
        "device = \"cuda\" if torch.cuda.is_available() else \"cpu\"\n",
        "device"
      ]
    },
    {
      "cell_type": "code",
      "execution_count": null,
      "metadata": {
        "colab": {
          "base_uri": "https://localhost:8080/"
        },
        "id": "oSiEraqO5235",
        "outputId": "85c127d1-0a97-4d78-ed63-4b30f231da83"
      },
      "outputs": [
        {
          "data": {
            "text/plain": [
              "CircleModel(\n",
              "  (laryer_1): Linear(in_features=2, out_features=10, bias=True)\n",
              "  (laryer_2): Linear(in_features=10, out_features=1, bias=True)\n",
              ")"
            ]
          },
          "execution_count": 9,
          "metadata": {},
          "output_type": "execute_result"
        }
      ],
      "source": [
        "#Making The Model Calls\n",
        "from torch import nn\n",
        "class CircleModel(nn.Module):\n",
        "  def __init__(self):\n",
        "    super().__init__()\n",
        "    # Here We Are Creating The Layers\n",
        "    self.laryer_1 = nn.Linear(in_features=2,out_features=10)# Layer 1 or input layer take 2 feature and output 10 featuyre\n",
        "    self.laryer_2 = nn.Linear(in_features =10,out_features=1)# it take 10 feature and and output 1 layer\n",
        "  def forward(self,x):\n",
        "    return self.laryer_2(self.laryer_1(x))\n",
        "\n",
        "model_0 = CircleModel().to(device)\n",
        "model_0\n"
      ]
    },
    {
      "cell_type": "code",
      "execution_count": null,
      "metadata": {
        "id": "qFcUEC7Q7Umn"
      },
      "outputs": [],
      "source": [
        "# Same Thing can be done with the help of nn.Sequential thingly\n",
        "model_0 = nn.Sequential(\n",
        "    nn.Linear(in_features=2,out_features=10),\n",
        "    nn.Linear(in_features=10,out_features=1)\n",
        ").to(device)"
      ]
    },
    {
      "cell_type": "code",
      "execution_count": null,
      "metadata": {
        "colab": {
          "base_uri": "https://localhost:8080/"
        },
        "id": "1-3v4N1x76a8",
        "outputId": "ca368eea-e188-4cb6-8493-ed5c9b3864c4"
      },
      "outputs": [
        {
          "name": "stdout",
          "output_type": "stream",
          "text": [
            "tensor([[ 0.1756],\n",
            "        [ 0.1532],\n",
            "        [ 0.1390],\n",
            "        [ 0.1863],\n",
            "        [-0.0124],\n",
            "        [-0.0250],\n",
            "        [ 0.0319],\n",
            "        [-0.0102],\n",
            "        [ 0.1454],\n",
            "        [ 0.1500]], grad_fn=<SliceBackward0>)\n"
          ]
        }
      ],
      "source": [
        "# Time To Make PRedection\n",
        "raw_model = model_0(X_test.to(device))\n",
        "print(raw_model[:10])"
      ]
    },
    {
      "cell_type": "code",
      "execution_count": null,
      "metadata": {
        "id": "dhO7ADxR8RkT"
      },
      "outputs": [],
      "source": [
        "# making Lost Function And Optimizer Function -->\n",
        "loss_fn= nn.BCEWithLogitsLoss() # Learn About IT\n",
        "optimizer = torch.optim.SGD(params=model_0.parameters(),lr=0.1) # ALso Learn AObut it"
      ]
    },
    {
      "cell_type": "code",
      "execution_count": null,
      "metadata": {
        "id": "YWICq5Ws8nhd"
      },
      "outputs": [],
      "source": [
        "# Accurascy Matrix\n",
        "def accur_fn(y_actual,y_predected):\n",
        "  cor = torch.eq(y_actual,y_predected).sum().item() # Torch.eq function takes 2 tensor and find match element by element if match returns ture , and we summing the true terms and / by total *100 = accuraacy\n",
        "  accuray = (cor/len(y_actual)) * 100\n",
        "  return accuray"
      ]
    },
    {
      "cell_type": "code",
      "execution_count": null,
      "metadata": {
        "colab": {
          "base_uri": "https://localhost:8080/"
        },
        "id": "x95jKXda9iN4",
        "outputId": "4900f571-538a-4415-f23a-cee0efae5cf0"
      },
      "outputs": [
        {
          "data": {
            "text/plain": [
              "tensor([[ 0.1756],\n",
              "        [ 0.1532],\n",
              "        [ 0.1390],\n",
              "        [ 0.1863],\n",
              "        [-0.0124],\n",
              "        [-0.0250],\n",
              "        [ 0.0319],\n",
              "        [-0.0102]])"
            ]
          },
          "execution_count": 14,
          "metadata": {},
          "output_type": "execute_result"
        }
      ],
      "source": [
        "# Traning The MOdel\n",
        "# Forward Passing and making Predection\n",
        "model_0.eval()\n",
        "with torch.inference_mode():\n",
        "  y_logits = model_0(X_test.to(device))\n",
        "y_logits[:8] # As we can see this thing is a float number but what we need is the binary classificaiton means either a thing belongs to a group or not\n",
        "# So That Will be either if it belong to some group or not  given by 1 or 0 so we use a activation function to pump up value kind of round off to 1 or pump down to 0'''"
      ]
    },
    {
      "cell_type": "code",
      "execution_count": null,
      "metadata": {
        "colab": {
          "base_uri": "https://localhost:8080/"
        },
        "id": "6YFUGckMB5Tj",
        "outputId": "9d1f359e-6063-4d86-b485-a8839948d63f"
      },
      "outputs": [
        {
          "data": {
            "text/plain": [
              "tensor([1., 0., 1., 0., 1., 1.])"
            ]
          },
          "execution_count": 15,
          "metadata": {},
          "output_type": "execute_result"
        }
      ],
      "source": [
        "y_test[:6] # We Require Result in this formmm"
      ]
    },
    {
      "cell_type": "code",
      "execution_count": null,
      "metadata": {
        "id": "0qj9igWiCmOY"
      },
      "outputs": [],
      "source": [
        "# Passing Logits Through Activaiton function\n",
        "y_predistion = torch.sigmoid(y_logits)"
      ]
    },
    {
      "cell_type": "code",
      "execution_count": null,
      "metadata": {
        "id": "ioxAKfp-D4f4"
      },
      "outputs": [],
      "source": [
        "y_predistion = torch.round(y_predistion)\n",
        "# y_predistion[:8] # There we Go"
      ]
    },
    {
      "cell_type": "code",
      "execution_count": null,
      "metadata": {
        "colab": {
          "base_uri": "https://localhost:8080/"
        },
        "id": "JSBYceBwEX3e",
        "outputId": "0abcf002-143e-4ad8-c7c7-eb7364b16723"
      },
      "outputs": [
        {
          "data": {
            "text/plain": [
              "tensor([1., 1., 1., 1., 0., 0., 1., 0., 1., 1., 1., 1., 1., 1., 1., 0., 1., 1.,\n",
              "        1., 1., 1., 0., 1., 1., 1., 1., 1., 0., 1., 1., 1., 1., 1., 1., 1., 1.,\n",
              "        1., 1., 1., 1., 1., 1., 1., 0., 1., 1., 0., 1., 1., 0., 1., 1., 0., 0.,\n",
              "        1., 1., 1., 1., 1., 1., 0., 1., 1., 1., 1., 1., 0., 0., 1., 0., 0., 1.,\n",
              "        1., 1., 0., 0., 1., 1., 1., 1., 1., 1., 0., 1., 1., 1., 0., 1., 1., 0.,\n",
              "        1., 1., 1., 0., 1., 1., 1., 1., 1., 1., 1., 1., 1., 1., 1., 1., 1., 1.,\n",
              "        1., 0., 1., 1., 1., 0., 0., 1., 1., 1., 1., 1., 1., 1., 0., 1., 0., 1.,\n",
              "        1., 1., 1., 1., 1., 1., 1., 1., 1., 1., 1., 1., 1., 1., 1., 1., 1., 1.,\n",
              "        1., 1., 1., 1., 1., 1., 0., 1., 1., 1., 0., 1., 1., 1., 1., 1., 1., 0.,\n",
              "        1., 1., 1., 0., 0., 1., 0., 1., 1., 1., 1., 0., 1., 0., 0., 0., 1., 0.,\n",
              "        0., 1., 1., 1., 1., 1., 1., 1., 1., 0., 1., 1., 1., 1., 1., 1., 1., 0.,\n",
              "        1., 1.])"
            ]
          },
          "execution_count": 18,
          "metadata": {},
          "output_type": "execute_result"
        }
      ],
      "source": [
        "# print(torch.eq(y_predistion.squeeze(), y_predistion.squeeze()))\n",
        "\n",
        "# Get rid of extra dimension\n",
        "y_predistion.squeeze()"
      ]
    },
    {
      "cell_type": "markdown",
      "metadata": {
        "id": "QoA5KznnEUDi"
      },
      "source": [
        "Train Test Loop"
      ]
    },
    {
      "cell_type": "code",
      "execution_count": null,
      "metadata": {
        "colab": {
          "base_uri": "https://localhost:8080/"
        },
        "id": "YSNwY2wnEY-h",
        "outputId": "ecae5b38-be04-484c-acfd-9722d89cbe6f"
      },
      "outputs": [
        {
          "name": "stdout",
          "output_type": "stream",
          "text": [
            "Epoch: 0 | Loss: 0.69810, Accuracy: 50.00% | Test loss: 0.69808, Test acc: 50.00%\n",
            "Epoch: 10 | Loss: 0.69781, Accuracy: 50.00% | Test loss: 0.69780, Test acc: 50.00%\n",
            "Epoch: 20 | Loss: 0.69755, Accuracy: 50.00% | Test loss: 0.69754, Test acc: 50.00%\n",
            "Epoch: 30 | Loss: 0.69730, Accuracy: 50.00% | Test loss: 0.69730, Test acc: 50.00%\n",
            "Epoch: 40 | Loss: 0.69709, Accuracy: 50.00% | Test loss: 0.69709, Test acc: 50.00%\n",
            "Epoch: 50 | Loss: 0.69688, Accuracy: 50.00% | Test loss: 0.69689, Test acc: 50.00%\n",
            "Epoch: 60 | Loss: 0.69670, Accuracy: 50.00% | Test loss: 0.69671, Test acc: 50.00%\n",
            "Epoch: 70 | Loss: 0.69653, Accuracy: 50.00% | Test loss: 0.69654, Test acc: 50.00%\n",
            "Epoch: 80 | Loss: 0.69637, Accuracy: 50.00% | Test loss: 0.69639, Test acc: 50.00%\n",
            "Epoch: 90 | Loss: 0.69623, Accuracy: 50.00% | Test loss: 0.69625, Test acc: 50.00%\n"
          ]
        }
      ],
      "source": [
        "torch.manual_seed(42)\n",
        "epochs = 100\n",
        "\n",
        "# Move data to the device\n",
        "X_train, y_train = X_train.to(device), y_train.to(device)\n",
        "X_test, y_test = X_test.to(device), y_test.to(device)\n",
        "\n",
        "for epoch in range(epochs):\n",
        "    # Training\n",
        "    model_0.train()\n",
        "    y_logits = model_0(X_train).squeeze()\n",
        "    y_pred = torch.round(torch.sigmoid(y_logits))  # Apply sigmoid before rounding\n",
        "\n",
        "    # Calculate loss using logits, not rounded predictions\n",
        "    loss = loss_fn(torch.sigmoid(y_logits), y_train)  # Sigmoid for probabilities\n",
        "    accur = accur_fn(y_actual=y_train, y_predected=y_pred)  # Calculate accuracy\n",
        "\n",
        "    # Optimizing\n",
        "    optimizer.zero_grad()  # Typo fix: it should be `optimizer` not `optimize`\n",
        "    loss.backward()        # Backpropagate the loss\n",
        "    optimizer.step()       # Update the parameters\n",
        "\n",
        "    # Testing\n",
        "    model_0.eval()\n",
        "    with torch.inference_mode():\n",
        "        t_logits = model_0(X_test).squeeze()\n",
        "        t_preds = torch.round(torch.sigmoid(t_logits))  # Sigmoid before rounding\n",
        "        test_loss = loss_fn(torch.sigmoid(t_logits), y_test)  # Test loss\n",
        "        test_acc = accur_fn(y_actual=y_test, y_predected=t_preds)  # Test accuracy\n",
        "\n",
        "        # Print every 10 epochs\n",
        "        if epoch % 10 == 0:\n",
        "            print(f\"Epoch: {epoch} | Loss: {loss:.5f}, Accuracy: {accur:.2f}% | Test loss: {test_loss:.5f}, Test acc: {test_acc:.2f}%\")\n"
      ]
    },
    {
      "cell_type": "code",
      "execution_count": null,
      "metadata": {
        "colab": {
          "background_save": true
        },
        "id": "cpO0aoRC3D5C",
        "outputId": "8d57f0a4-4c76-4171-df88-9b23492c53b9"
      },
      "outputs": [
        {
          "ename": "TypeError",
          "evalue": "Linear.__init__() got an unexpected keyword argument 'out_feature'",
          "output_type": "error",
          "traceback": [
            "\u001b[0;31m---------------------------------------------------------------------------\u001b[0m",
            "\u001b[0;31mTypeError\u001b[0m                                 Traceback (most recent call last)",
            "\u001b[0;32m<ipython-input-58-0d52c1e15000>\u001b[0m in \u001b[0;36m<cell line: 12>\u001b[0;34m()\u001b[0m\n\u001b[1;32m     10\u001b[0m     \u001b[0;32mreturn\u001b[0m \u001b[0mself\u001b[0m\u001b[0;34m.\u001b[0m\u001b[0mlayer_3\u001b[0m\u001b[0;34m(\u001b[0m\u001b[0mself\u001b[0m\u001b[0;34m.\u001b[0m\u001b[0mlayer_2\u001b[0m\u001b[0;34m(\u001b[0m\u001b[0mself\u001b[0m\u001b[0;34m.\u001b[0m\u001b[0mlayer_1\u001b[0m\u001b[0;34m(\u001b[0m\u001b[0mx\u001b[0m\u001b[0;34m)\u001b[0m\u001b[0;34m)\u001b[0m\u001b[0;34m)\u001b[0m\u001b[0;34m\u001b[0m\u001b[0;34m\u001b[0m\u001b[0m\n\u001b[1;32m     11\u001b[0m \u001b[0;34m\u001b[0m\u001b[0m\n\u001b[0;32m---> 12\u001b[0;31m \u001b[0mmodel_1\u001b[0m \u001b[0;34m=\u001b[0m \u001b[0mCircleModelV2\u001b[0m\u001b[0;34m(\u001b[0m\u001b[0;34m)\u001b[0m\u001b[0;34m.\u001b[0m\u001b[0mto\u001b[0m\u001b[0;34m(\u001b[0m\u001b[0mdevice\u001b[0m\u001b[0;34m)\u001b[0m\u001b[0;34m\u001b[0m\u001b[0;34m\u001b[0m\u001b[0m\n\u001b[0m\u001b[1;32m     13\u001b[0m \u001b[0;34m\u001b[0m\u001b[0m\n\u001b[1;32m     14\u001b[0m \u001b[0;34m\u001b[0m\u001b[0m\n",
            "\u001b[0;32m<ipython-input-58-0d52c1e15000>\u001b[0m in \u001b[0;36m__init__\u001b[0;34m(self)\u001b[0m\n\u001b[1;32m      6\u001b[0m     \u001b[0mself\u001b[0m\u001b[0;34m.\u001b[0m\u001b[0mlayer_1\u001b[0m \u001b[0;34m=\u001b[0m \u001b[0mnn\u001b[0m\u001b[0;34m.\u001b[0m\u001b[0mLinear\u001b[0m\u001b[0;34m(\u001b[0m\u001b[0min_features\u001b[0m\u001b[0;34m=\u001b[0m\u001b[0;36m2\u001b[0m\u001b[0;34m,\u001b[0m\u001b[0mout_features\u001b[0m\u001b[0;34m=\u001b[0m\u001b[0;36m10\u001b[0m\u001b[0;34m)\u001b[0m\u001b[0;34m\u001b[0m\u001b[0;34m\u001b[0m\u001b[0m\n\u001b[1;32m      7\u001b[0m     \u001b[0mself\u001b[0m\u001b[0;34m.\u001b[0m\u001b[0mlayer_2\u001b[0m \u001b[0;34m=\u001b[0m \u001b[0mnn\u001b[0m\u001b[0;34m.\u001b[0m\u001b[0mLinear\u001b[0m\u001b[0;34m(\u001b[0m\u001b[0min_features\u001b[0m\u001b[0;34m=\u001b[0m\u001b[0;36m10\u001b[0m\u001b[0;34m,\u001b[0m\u001b[0mout_features\u001b[0m\u001b[0;34m=\u001b[0m\u001b[0;36m10\u001b[0m\u001b[0;34m)\u001b[0m\u001b[0;34m\u001b[0m\u001b[0;34m\u001b[0m\u001b[0m\n\u001b[0;32m----> 8\u001b[0;31m     \u001b[0mself\u001b[0m\u001b[0;34m.\u001b[0m\u001b[0mlayer_3\u001b[0m \u001b[0;34m=\u001b[0m \u001b[0mnn\u001b[0m\u001b[0;34m.\u001b[0m\u001b[0mLinear\u001b[0m\u001b[0;34m(\u001b[0m\u001b[0min_features\u001b[0m\u001b[0;34m=\u001b[0m\u001b[0;36m10\u001b[0m\u001b[0;34m,\u001b[0m\u001b[0mout_feature\u001b[0m\u001b[0;34m=\u001b[0m\u001b[0;36m2\u001b[0m\u001b[0;34m)\u001b[0m\u001b[0;34m\u001b[0m\u001b[0;34m\u001b[0m\u001b[0m\n\u001b[0m\u001b[1;32m      9\u001b[0m   \u001b[0;32mdef\u001b[0m \u001b[0mforward\u001b[0m\u001b[0;34m(\u001b[0m\u001b[0mself\u001b[0m\u001b[0;34m,\u001b[0m\u001b[0mx\u001b[0m\u001b[0;34m)\u001b[0m\u001b[0;34m:\u001b[0m\u001b[0;34m\u001b[0m\u001b[0;34m\u001b[0m\u001b[0m\n\u001b[1;32m     10\u001b[0m     \u001b[0;32mreturn\u001b[0m \u001b[0mself\u001b[0m\u001b[0;34m.\u001b[0m\u001b[0mlayer_3\u001b[0m\u001b[0;34m(\u001b[0m\u001b[0mself\u001b[0m\u001b[0;34m.\u001b[0m\u001b[0mlayer_2\u001b[0m\u001b[0;34m(\u001b[0m\u001b[0mself\u001b[0m\u001b[0;34m.\u001b[0m\u001b[0mlayer_1\u001b[0m\u001b[0;34m(\u001b[0m\u001b[0mx\u001b[0m\u001b[0;34m)\u001b[0m\u001b[0;34m)\u001b[0m\u001b[0;34m)\u001b[0m\u001b[0;34m\u001b[0m\u001b[0;34m\u001b[0m\u001b[0m\n",
            "\u001b[0;31mTypeError\u001b[0m: Linear.__init__() got an unexpected keyword argument 'out_feature'"
          ]
        }
      ],
      "source": [
        "# Let's imporve the model by tunning some of the hyper parameters -->\n",
        "\n",
        "class CircleModelV2(nn.Module):\n",
        "  def __init__(self):\n",
        "    super().__init__()\n",
        "    self.layer_1 = nn.Linear(in_features=2,out_features=10)\n",
        "    self.layer_2 = nn.Linear(in_features=10,out_features=10)\n",
        "    self.layer_3 = nn.Linear(in_features=10,out_feature=2)\n",
        "  def forward(self,x):\n",
        "    return self.layer_3(self.layer_2(self.layer_1(x)))\n",
        "\n",
        "model_1 = CircleModelV2().to(device)\n",
        "\n",
        "\n",
        "\n"
      ]
    },
    {
      "cell_type": "code",
      "execution_count": null,
      "metadata": {
        "colab": {
          "background_save": true
        },
        "id": "o3lrBqaYs6DP"
      },
      "outputs": [],
      "source": [
        "import torch\n",
        "import torchvision\n",
        "import torchvision.transforms as transforms\n",
        "from torch.utils.data import DataLoader\n",
        "import torch.nn as nn\n",
        "import matplotlib.pyplot as plt\n",
        "import numpy as np\n",
        "from time import time as timer\n",
        "from tqdm.auto import tqdm\n",
        "import random\n",
        "\n",
        "# Load MNIST dataset\n",
        "transform = transforms.ToTensor()\n",
        "\n",
        "train_data = torchvision.datasets.MNIST(root=\"./data\", train=True, download=True, transform=transform)\n",
        "test_data = torchvision.datasets.MNIST(root=\"./data\", train=False, download=True, transform=transform)\n",
        "\n",
        "########\n",
        "\n",
        "# Get class names\n",
        "\n",
        "\n",
        "#######\n",
        "\n",
        "# Define the CNN architecture\n",
        "##############\n",
        "# Instantiate the model\n",
        "#######\n",
        "\n",
        "# Training and testing loop\n",
        "###########\n",
        "\n",
        "#########\n",
        "\n",
        "#######\n",
        "\n",
        "####\n"
      ]
    },
    {
      "cell_type": "code",
      "execution_count": null,
      "metadata": {
        "colab": {
          "background_save": true
        },
        "id": "H8nCpKEotY4Z"
      },
      "outputs": [],
      "source": []
    },
    {
      "cell_type": "code",
      "execution_count": null,
      "metadata": {
        "colab": {
          "background_save": true
        },
        "id": "r29NVP8nxTO4"
      },
      "outputs": [],
      "source": [
        "BATCH_SIZE = 16\n",
        "train_dataloader = DataLoader(dataset=train_data, batch_size=BATCH_SIZE, shuffle=True)\n",
        "test_dataloader = DataLoader(dataset=test_data, batch_size=BATCH_SIZE, shuffle=False)"
      ]
    },
    {
      "cell_type": "code",
      "execution_count": null,
      "metadata": {
        "colab": {
          "background_save": true
        },
        "id": "fB9pdlTHxZCP"
      },
      "outputs": [],
      "source": [
        "# Define accuracy function\n",
        "def accuracy(model, dataloader):\n",
        "    model.eval()\n",
        "    correct = 0\n",
        "    total = 0\n",
        "    with torch.no_grad():\n",
        "        for images, labels in dataloader:\n",
        "            output = model(images)\n",
        "            _, predicted = torch.max(output.data, 1)\n",
        "            total += labels.size(0)\n",
        "            correct += (predicted == labels).sum().item()\n",
        "    return correct / total"
      ]
    },
    {
      "cell_type": "code",
      "execution_count": null,
      "metadata": {
        "colab": {
          "background_save": true
        },
        "id": "P4cyxW6O3PXH"
      },
      "outputs": [],
      "source": [
        "class MNISTCnn(nn.Module):\n",
        "    def __init__(self, input_shape:int, hidden_unit:int, output_shape:int):\n",
        "        super().__init__()\n",
        "        self.block_1 = nn.Sequential(\n",
        "            nn.Conv2d(in_channels=input_shape, out_channels=hidden_unit, kernel_size=3, stride=1, padding=1),\n",
        "            nn.ReLU(),\n",
        "            nn.Conv2d(in_channels=hidden_unit, out_channels=hidden_unit, kernel_size=3, stride=1, padding=1),\n",
        "            nn.ReLU(),\n",
        "            nn.MaxPool2d(kernel_size=2, stride=2)\n",
        "        )\n",
        "        self.block_2 = nn.Sequential(\n",
        "            nn.Conv2d(hidden_unit, hidden_unit, 3, padding=1),\n",
        "            nn.ReLU(),\n",
        "            nn.Conv2d(hidden_unit, hidden_unit, 3, padding=1),\n",
        "            nn.ReLU(),\n",
        "            nn.MaxPool2d(2)\n",
        "        )\n",
        "        self.classifier = nn.Sequential(\n",
        "            nn.Flatten(),\n",
        "            nn.Linear(in_features=hidden_unit*7*7, out_features=output_shape)\n",
        "        )\n",
        "\n",
        "    def forward(self, x:torch.Tensor):\n",
        "        x = self.block_1(x)\n",
        "        x = self.block_2(x)\n",
        "        x = self.classifier(x)\n",
        "        return x\n",
        "class_names = train_data.classes"
      ]
    },
    {
      "cell_type": "code",
      "execution_count": null,
      "metadata": {
        "colab": {
          "background_save": true
        },
        "id": "jttPKe4VtZom"
      },
      "outputs": [],
      "source": [
        "torch.manual_seed(42)\n",
        "model_Cnn = MNISTCnn(input_shape=1, hidden_unit=10, output_shape=len(class_names))\n",
        "\n",
        "# Setup loss and optimizer\n",
        "loss_fn = nn.CrossEntropyLoss()\n",
        "optimizer = torch.optim.SGD(params=model_Cnn.parameters(), lr=0.1)"
      ]
    },
    {
      "cell_type": "code",
      "execution_count": null,
      "metadata": {
        "colab": {
          "background_save": true
        },
        "id": "4k4EJH7Bti8b"
      },
      "outputs": [],
      "source": [
        "torch.manual_seed(42)\n",
        "train_time_start = timer()\n",
        "epochs = 5\n",
        "\n",
        "for epoch in tqdm(range(epochs)):\n",
        "    print(f\"Epoch No : {epoch+1}\")\n",
        "    train_loss, train_accur = 0, 0\n",
        "    for batch, (X, y) in enumerate(train_dataloader):\n",
        "        model_Cnn.train()\n",
        "        y_pred = model_Cnn(X)\n",
        "        loss = loss_fn(y_pred, y)\n",
        "        train_accur += accuracy(model_Cnn, train_dataloader)\n",
        "        train_loss += loss.item()\n",
        "\n",
        "        optimizer.zero_grad()\n",
        "        loss.backward()\n",
        "        optimizer.step()\n",
        "\n",
        "        if batch % 400 == 0:\n",
        "            print(f\"Current Batch : {batch}/{len(train_dataloader.dataset)} samples\")\n",
        "\n",
        "    train_loss /= len(train_dataloader)\n",
        "    train_accur /= len(train_dataloader)\n",
        "    print(f\"Train loss: {train_loss:.5f} | Train accuracy: {train_accur:.2f}%\")\n",
        "\n",
        "    test_loss, test_accur = 0, 0\n",
        "    model_Cnn.eval()\n",
        "    with torch.no_grad():\n",
        "        for X, y in test_dataloader:\n",
        "            test_pred = model_Cnn(X)\n",
        "            test_loss += loss_fn(test_pred, y).item()\n",
        "            test_accur += accuracy(model_Cnn, test_dataloader)\n",
        "\n",
        "        test_loss /= len(test_dataloader)\n",
        "        test_accur /= len(test_dataloader)\n",
        "    print(f\"\\nTest loss: {test_loss:.5f} | Test accuracy: {test_accur:.2f}%\\n\")\n",
        "\n",
        "train_end_time = timer()\n",
        "print(f\"Total training time: {train_end_time - train_time_start:.2f} seconds\")"
      ]
    },
    {
      "cell_type": "code",
      "execution_count": null,
      "metadata": {
        "colab": {
          "background_save": true
        },
        "id": "uGJJKIX2tmUN"
      },
      "outputs": [],
      "source": [
        "# Visualization\n",
        "def show_image(image, label, class_names):\n",
        "    plt.imshow(image.squeeze(), cmap=\"gray\")\n",
        "    plt.title(class_names[label])\n",
        "    plt.axis('off')\n",
        "    plt.show()\n",
        "\n",
        "# Show a sample image from the training set\n",
        "image, label = train_data[9]\n",
        "show_image(image, label, class_names)"
      ]
    },
    {
      "cell_type": "code",
      "execution_count": null,
      "metadata": {
        "colab": {
          "background_save": true
        },
        "id": "NE-4gkjotp8U"
      },
      "outputs": [],
      "source": [
        "# Prediction function\n",
        "def make_prediction(model:torch.nn.Module, data:list):\n",
        "    pred_probs = []\n",
        "    model.eval()\n",
        "    with torch.no_grad():\n",
        "        for sample in data:\n",
        "            sample = torch.unsqueeze(sample, dim=0)\n",
        "            pred_logit = model(sample)\n",
        "            pred_prob = torch.softmax(pred_logit.squeeze(), dim=0)\n",
        "            pred_probs.append(pred_prob)\n",
        "    return torch.stack(pred_probs)"
      ]
    },
    {
      "cell_type": "code",
      "execution_count": null,
      "metadata": {
        "colab": {
          "background_save": true
        },
        "id": "g-kgt-FittRl"
      },
      "outputs": [],
      "source": [
        "# Get random test samples\n",
        "test_samples = [test_data[random.randint(0, len(test_data)-1)][0] for _ in range(9)]\n",
        "test_labels = [test_data[random.randint(0, len(test_data)-1)][1] for _ in range(9)]\n",
        "\n",
        "# Show a test sample\n",
        "print(f\"Test sample image shape: {test_samples[0].shape}\\nTest label: {test_labels[0]} ({class_names[test_labels[0]]})\")\n",
        "show_image(test_samples[0], test_labels[0], class_names)\n",
        "\n",
        "# Make predictions\n",
        "pred_probs = make_prediction(model_Cnn, test_samples)\n",
        "pred_classes = pred_probs.argmax(dim=1)\n",
        "print(f\"Predicted classes: {pred_classes}\")"
      ]
    },
    {
      "cell_type": "markdown",
      "metadata": {
        "id": "u0RsZ1WL49_a"
      },
      "source": [
        "# Implementation OF CNN OVER MNIST\n",
        "\n"
      ]
    },
    {
      "cell_type": "code",
      "execution_count": null,
      "metadata": {
        "colab": {
          "background_save": true
        },
        "id": "5Zwzjy7T5NYr"
      },
      "outputs": [],
      "source": [
        "import torch\n",
        "import torchvision\n",
        "from torchvision import datasets\n",
        "import torch.nn as nn\n",
        "import torch.optim as optim\n",
        "import matplotlib.pyplot as plt\n",
        "from torchvision import transforms\n",
        "from tqdm import tqdm\n",
        "from time import time as timer\n",
        "\n",
        "# Define accuracy function\n",
        "\n",
        "\n",
        "train_data = datasets.MNIST('./Meta/train', download=True, train=True, transform=torchvision.transforms.ToTensor())\n",
        "test_data = datasets.MNIST('./Meta/test', download=True, train=False, transform=torchvision.transforms.ToTensor())\n",
        "class_names = test_data.classes\n",
        "class_names\n",
        "\n",
        "\n",
        "\n",
        "\n",
        "def accuracy(model, dataloader):\n",
        "    model.eval()\n",
        "    correct = 0\n",
        "    total = 0\n",
        "    with torch.no_grad():\n",
        "        for images, labels in dataloader:\n",
        "            output = model(images)\n",
        "            _, predicted = torch.max(output.data, 1)\n",
        "            total += labels.size(0)\n",
        "            correct += (predicted == labels).sum().item()\n",
        "    return (correct / total)*100\n",
        "\n",
        "transform = transforms.Compose([\n",
        "    transforms.ToTensor(),\n",
        "    transforms.Normalize((0.5,), (0.5,))\n",
        "])\n",
        "batch_size = 1024\n",
        "train_dataloader = torch.utils.data.DataLoader(train_data, batch_size, shuffle=True)\n",
        "test_dataloader = torch.utils.data.DataLoader(test_data, batch_size, shuffle=True)"
      ]
    },
    {
      "cell_type": "code",
      "execution_count": null,
      "metadata": {
        "colab": {
          "background_save": true
        },
        "id": "4p3dAGOZ5SOJ"
      },
      "outputs": [],
      "source": [
        "# Define the CNN architecture\n",
        "class MNISTCnn2(nn.Module):\n",
        "    def __init__(self, input_shape:int, hidden_unit:int, output_shape:int):\n",
        "        super().__init__()\n",
        "        self.block_1 = nn.Sequential(\n",
        "            nn.Conv2d(in_channels=input_shape, out_channels=hidden_unit, kernel_size=3, stride=1, padding=1),\n",
        "            nn.ReLU(),\n",
        "            nn.Conv2d(in_channels=hidden_unit, out_channels=hidden_unit, kernel_size=3, stride=1, padding=1),\n",
        "            nn.ReLU(),\n",
        "            nn.MaxPool2d(kernel_size=2, stride=2)\n",
        "        )\n",
        "        self.block_2 = nn.Sequential(\n",
        "            nn.Conv2d(hidden_unit, hidden_unit, 3, padding=1),\n",
        "            nn.ReLU(),\n",
        "            nn.Conv2d(hidden_unit, hidden_unit, 3, padding=1),\n",
        "            nn.ReLU(),\n",
        "            nn.MaxPool2d(2)\n",
        "        )\n",
        "        self.classifier = nn.Sequential(\n",
        "            nn.Flatten(),\n",
        "            nn.Linear(in_features=hidden_unit*7*7, out_features=output_shape)\n",
        "        )\n",
        "\n",
        "    def forward(self, x:torch.Tensor):\n",
        "        x = self.block_1(x)\n",
        "        x = self.block_2(x)\n",
        "        x = self.classifier(x)\n",
        "        return x\n",
        "\n"
      ]
    },
    {
      "cell_type": "code",
      "execution_count": null,
      "metadata": {
        "colab": {
          "background_save": true
        },
        "id": "DV7q9o8e5UMN"
      },
      "outputs": [],
      "source": [
        "# Instantiate the model\n",
        "torch.manual_seed(42)\n",
        "model_Cnn2 = MNISTCnn2(input_shape=1, hidden_unit=10, output_shape=len(class_names))\n",
        "\n",
        "# Setup loss and optimizer\n",
        "loss_fn = nn.CrossEntropyLoss()\n",
        "optimizer = optim.SGD(params=model_Cnn2.parameters(), lr=0.1)"
      ]
    },
    {
      "cell_type": "code",
      "execution_count": null,
      "metadata": {
        "colab": {
          "background_save": true
        },
        "id": "xsYDVZ1M5aFg"
      },
      "outputs": [],
      "source": [
        "torch.manual_seed(42)\n",
        "train_time_start = timer()\n",
        "epochs = 4\n",
        "\n",
        "for epoch in tqdm(range(epochs)):\n",
        "    print(f\"Epoch No : {epoch+1}\")\n",
        "    model_Cnn2.train()\n",
        "    train_loss = 0\n",
        "    for batch, (X, y) in enumerate(train_dataloader):\n",
        "        optimizer.zero_grad()\n",
        "        y_pred = model_Cnn2(X)\n",
        "        loss = loss_fn(y_pred, y)\n",
        "        loss.backward()\n",
        "        optimizer.step()\n",
        "        train_loss += loss.item()\n",
        "\n",
        "        if batch % 400 == 0:\n",
        "            print(f\"Current Batch : {batch}/{len(train_dataloader.dataset)} samples\")\n",
        "\n",
        "    train_loss /= len(train_dataloader)\n",
        "    train_accur = accuracy(model_Cnn2, train_dataloader)\n",
        "    print(f\"Train loss: {train_loss:.5f} | Train accuracy: {train_accur:.2f}%\")\n",
        "\n",
        "    model_Cnn2.eval()\n",
        "    test_loss = 0\n",
        "    test_accur = accuracy(model_Cnn2, test_dataloader)\n",
        "    with torch.no_grad():\n",
        "        for X, y in test_dataloader:\n",
        "            test_pred = model_Cnn2(X)\n",
        "            test_loss += loss_fn(test_pred, y).item()\n",
        "\n",
        "    test_loss /= len(test_dataloader)\n",
        "    print(f\"\\nTest loss: {test_loss:.5f} | Test accuracy: {test_accur:.2f}%\\n\")\n",
        "\n",
        "train_end_time = timer()\n",
        "print(f\"Total training time: {train_end_time - train_time_start:.2f} seconds\")"
      ]
    },
    {
      "cell_type": "code",
      "execution_count": null,
      "metadata": {
        "colab": {
          "background_save": true
        },
        "id": "QEcz5wk75a2L"
      },
      "outputs": [],
      "source": [
        "def make_prediction(model:torch.nn.Module, data:list):\n",
        "    pred_probs = []\n",
        "    model.eval()\n",
        "    with torch.no_grad():\n",
        "        for sample in data:\n",
        "            sample = torch.unsqueeze(sample, dim=0)\n",
        "            pred_logit = model(sample)\n",
        "            pred_prob = torch.softmax(pred_logit.squeeze(), dim=0)\n",
        "            pred_probs.append(pred_prob)\n",
        "    return torch.stack(pred_probs)"
      ]
    },
    {
      "cell_type": "code",
      "execution_count": null,
      "metadata": {
        "colab": {
          "background_save": true
        },
        "id": "IEI7IykI5dwJ"
      },
      "outputs": [],
      "source": [
        "def show_image(image, label, class_names):\n",
        "    plt.imshow(image.squeeze(), cmap=\"gray\")\n",
        "    # plt.title(class_names[label])\n",
        "    plt.axis('off')\n",
        "    plt.show()\n",
        "\n",
        "# Show a sample image from the training set\n",
        "image, label = train_data[9]\n",
        "# show_image(image, label, class_names)"
      ]
    },
    {
      "cell_type": "code",
      "execution_count": null,
      "metadata": {
        "colab": {
          "background_save": true
        },
        "id": "BZe6-mBs5g6J"
      },
      "outputs": [],
      "source": [
        "# Get random test samples\n",
        "import random\n",
        "import cv2\n",
        "from tensorflow.keras.preprocessing import image\n",
        "from skimage.color import rgb2gray\n",
        "\n",
        "test_samples = [test_data[random.randint(0, len(test_data)-1)][0] for _ in range(9)]\n",
        "test_labels = [test_data[random.randint(0, len(test_data)-1)][1] for _ in range(9)]\n",
        "# print(test_data)\n",
        "# Show a test sample\n",
        "print(\"Feeded Characeter\")\n",
        "print(test_samples[0])\n",
        "new_imag_path = \"./WhatsApp Image 2024-09-09 at 9.43.13 AM.jpeg\"\n",
        "import cv2\n",
        "import numpy as np\n",
        "\n",
        "\n",
        "def preprocess_image_for_mnist(image_path):\n",
        "    # Load the image from the provided path\n",
        "    img = cv2.imread(image_path, cv2.IMREAD_GRAYSCALE)\n",
        "\n",
        "    # Resize the image to 28x28 pixels, same size as MNIST images\n",
        "    img_resized = cv2.resize(img, (28, 28))\n",
        "\n",
        "    # Invert colors: MNIST has white digits on a black background\n",
        "    img_resized = 255 - img_resized\n",
        "\n",
        "    # Normalize the pixel values (same as MNIST: values between 0 and 1)\n",
        "    img_normalized = img_resized.astype('float32') / 255.0\n",
        "\n",
        "    # Reshape to (28, 28, 1) to match the input shape of the CNN model\n",
        "    img_reshaped = img_normalized.reshape(1, 28, 28, 1)\n",
        "\n",
        "    return img_reshaped\n",
        "new_ings = preprocess_image_for_mnist(new_imag_path)\n",
        "plt.imshow(new_ings)\n",
        "test_samples[0] = new_ings\n",
        "\n",
        "print(new_ings.squeeze())\n",
        "\n",
        "# show_image(test_samples[0], test_labels[0], class_names)"
      ]
    },
    {
      "cell_type": "code",
      "execution_count": null,
      "metadata": {
        "colab": {
          "background_save": true
        },
        "id": "CV2zip2p5hba"
      },
      "outputs": [],
      "source": [
        "# Make predictions\n",
        "pred_probs = make_prediction(model_Cnn2, test_samples)\n",
        "pred_classes = pred_probs.argmax(dim=1)\n",
        "print(f\"Predicted Character: {pred_classes[0]}\")"
      ]
    },
    {
      "cell_type": "code",
      "execution_count": null,
      "metadata": {
        "colab": {
          "background_save": true
        },
        "id": "3tWhADvy5kAT"
      },
      "outputs": [],
      "source": [
        "import torch\n",
        "from torch import nn\n",
        "import torchvision\n",
        "from torchvision import datasets\n",
        "from torchvision import transforms\n",
        "from torchvision.transforms import ToTensor # for tensor conversino of a tensor into image\n",
        "import matplotlib.pyplot as plt\n",
        "\n",
        "# Importing Dataset For Training Faishon MNIST\n",
        "train_data = datasets.MNIST(root=\"./Data/train\",train=True,download=True,transform=torchvision.transforms.ToTensor())\n",
        "\n",
        "# Importing Dataset For Test Faishon MNIST\n",
        "test_data = datasets.MNIST(root=\"./Data/test\",train=False,download=True,transform=torchvision.transforms.ToTensor())\n",
        "\n",
        "# Prepraing Data Loader\n",
        "\"\"\" Breaking Data in Batch Data Load Converts the data into python iterable Form, breaking into mini batches will helps us to feeding say if it is 32 then 32 images per epoch rather than 6000 image in one go that will use eats up the memory and crashes the system\n",
        "also it is relatively eiaser to trach graident desent of these mini batches \"\"\"\n",
        "#  Lets Make Some batches\n",
        "from torch.utils.data import DataLoader\n",
        "BATCH_SIZE = 32\n",
        "train_dataloader = DataLoader(dataset=train_data,batch_size=BATCH_SIZE,shuffle=True)\n",
        "test_dataloader = DataLoader(dataset=test_data,batch_size=BATCH_SIZE,shuffle=True)\n",
        "train_dataloader,test_dataloader"
      ]
    },
    {
      "cell_type": "code",
      "execution_count": null,
      "metadata": {
        "colab": {
          "background_save": true
        },
        "id": "9xmoNdN7lC59"
      },
      "outputs": [],
      "source": [
        "import requests\n",
        "from pathlib import Path\n",
        "\n",
        "# Download helper functions from Learn PyTorch repo (if not already downloaded)\n",
        "if Path(\"helper_functions.py\").is_file():\n",
        "  print(\"helper_functions.py already exists, skipping download\")\n",
        "else:\n",
        "  print(\"Downloading helper_functions.py\")\n",
        "  # Note: you need the \"raw\" GitHub URL for this to work\n",
        "  request = requests.get(\"https://raw.githubusercontent.com/mrdbourke/pytorch-deep-learning/main/helper_functions.py\")\n",
        "  with open(\"helper_functions.py\", \"wb\") as f:\n",
        "    f.write(request.content)"
      ]
    },
    {
      "cell_type": "code",
      "execution_count": null,
      "metadata": {
        "colab": {
          "background_save": true
        },
        "id": "Lr-z-9HKlFk9"
      },
      "outputs": [],
      "source": [
        "from torch import nn\n",
        "class FashionMnistV0(nn.Module):\n",
        "    def __init__(self,input_shape:int,hidden_unit:int,output_shape:int):\n",
        "        super().__init__()\n",
        "        # Stacking The Layers\n",
        "        self.layer_stack=nn.Sequential(\n",
        "            # First Things First do Flattaning\n",
        "            nn.Flatten(),\n",
        "            nn.Linear(in_features=input_shape,out_features=hidden_unit),\n",
        "            nn.Linear(in_features=hidden_unit,out_features=output_shape)\n",
        "        )\n",
        "    def forward(self,x):\n",
        "        return self.layer_stack(x)\n",
        "    # See classes\n",
        "class_names = train_data.classes\n",
        "class_names\n"
      ]
    },
    {
      "cell_type": "code",
      "execution_count": null,
      "metadata": {
        "colab": {
          "background_save": true
        },
        "id": "qNH66jjElHgV"
      },
      "outputs": [],
      "source": [
        "# Instanceating The MOdel\n",
        "model_0 = FashionMnistV0(input_shape=784,hidden_unit=10,output_shape=len(class_names))\n",
        "model_0 # So Far So GOod"
      ]
    },
    {
      "cell_type": "code",
      "execution_count": null,
      "metadata": {
        "colab": {
          "background_save": true
        },
        "id": "sbzVX1cZlJQU"
      },
      "outputs": [],
      "source": [
        "loss_fn = nn.CrossEntropyLoss()\n",
        "optimizer = torch.optim.SGD(params=model_0.parameters(),lr= 0.1)\n",
        "epoches_list = []\n",
        "train_loss_list = []\n",
        "test_loss_list=[]\n",
        "accuracy_list = []\n"
      ]
    },
    {
      "cell_type": "code",
      "execution_count": null,
      "metadata": {
        "colab": {
          "background_save": true
        },
        "id": "gVX1MsoTlKht"
      },
      "outputs": [],
      "source": [
        "# Setting A Timmer\n",
        "from helper_functions import accuracy_fn\n",
        "from timeit import default_timer as timer\n",
        "def print_train_timer(start:float,end:float):\n",
        "    total_time = end-start\n",
        "    print(f\"Time Pass By Trainnig : {total_time:.3f} seconds\")\n",
        "\n",
        "# Making Training And Testing\n",
        "# Importing A new kind of moudule which just simpely prints a progress bar\n",
        "from tqdm.auto import tqdm\n",
        "import torch\n",
        "\n",
        "torch.manual_seed(42)\n",
        "train_time_start = timer()\n",
        "\n",
        "# Here Epoch will be less beacuse updated or parameters updated after every batch\n",
        "epochs = 20\n",
        "for epoch in tqdm(range(epochs)):\n",
        "\n",
        "    epoches_list.append(epoch)\n",
        "    print(f\"Epoch No : {epoch+1}\")\n",
        "\n",
        "    train_loss = 0\n",
        "    for batch, (X,y) in enumerate(train_dataloader):\n",
        "        # Setting In Training Mode\n",
        "        model_0.train()\n",
        "        # Here Linear Function No Logits\n",
        "        y_pred = model_0(X)\n",
        "        # Creating Loss Function\n",
        "        loss = loss_fn(y_pred,y)\n",
        "        train_loss += loss # Loss Will be accumulate this loss for each batch\n",
        "        # Grads Work\n",
        "        optimizer.zero_grad()\n",
        "        loss.backward()\n",
        "        optimizer.step()\n",
        "        if batch% 400 ==0 :\n",
        "            print(f\"Current Batch : {batch}/{len(train_dataloader.dataset)} sample\")\n",
        "    train_loss /= len(train_dataloader)\n",
        "    print('adslkfjkladsjflkajdsf;kjas;flja;skdfj;alsdjfka;dlsjf;klajdsf;')\n",
        "\n",
        "    train_loss_list.append(train_loss.detach().item())\n",
        "\n",
        "    # Creating the testing\n",
        "    test_loss,test_accur = 0,0\n",
        "    # Turn On Evaulation MOde\n",
        "    model_0.eval()\n",
        "    with torch.inference_mode():\n",
        "        for X,y in train_dataloader:\n",
        "            # Preds\n",
        "            test_pred= model_0(X)\n",
        "            test_loss += loss_fn(test_pred,y)\n",
        "            test_accur += accuracy_fn(y_true=y,\n",
        "                                      y_pred=test_pred.argmax(dim=1),\n",
        "\n",
        "                                      )\n",
        "        test_loss/= len(train_dataloader)\n",
        "        test_accur /= len(train_dataloader)\n",
        "\n",
        "    test_loss_list.append(test_loss)\n",
        "    accuracy_list.append(test_accur)\n",
        "    print(f\"\\nTrain loss: {train_loss:.5f} | Test loss: {test_loss:.5f}, Test acc: {test_accur:.2f}%\\n\")\n",
        "\n",
        "\n",
        "train_end_time = timer()\n",
        "total_time = print_train_timer(start=train_time_start,end=train_end_time)"
      ]
    },
    {
      "cell_type": "code",
      "execution_count": null,
      "metadata": {
        "colab": {
          "background_save": true
        },
        "id": "_9NOsFVNlOMy"
      },
      "outputs": [],
      "source": [
        "def make_prediction(model:torch.nn.Module, data:list):\n",
        "    pred_probs = []\n",
        "    model.eval()\n",
        "    with torch.no_grad():\n",
        "        for sample in data:\n",
        "            sample = torch.unsqueeze(sample, dim=0)\n",
        "            pred_logit = model(sample)\n",
        "            pred_prob = torch.softmax(pred_logit.squeeze(), dim=0)\n",
        "            pred_probs.append(pred_prob)\n",
        "    return torch.stack(pred_probs)\n",
        "\n",
        "def show_image(image, label, class_names):\n",
        "    plt.imshow(image.squeeze(), cmap=\"gray\")\n",
        "    # plt.title(class_names[label])\n",
        "    plt.axis('off')\n",
        "    plt.show()"
      ]
    },
    {
      "cell_type": "code",
      "execution_count": null,
      "metadata": {
        "colab": {
          "background_save": true
        },
        "id": "y5tEl3h7lS9T"
      },
      "outputs": [],
      "source": [
        "print(epoches_list)\n",
        "test_loss_list = test_loss_list[:20]\n",
        "detached_tensors1 = [t.detach() for t in test_loss_list]\n",
        "\n",
        "\n",
        "train_loss_list = train_loss_list[:20]\n",
        "detached_tensors2 = [t.detach() for t in train_loss_list]\n",
        "accuracy_list = accuracy_list[:20]\n",
        "epoches_list=epoches_list[:20]\n",
        "print(test_loss_list[0])\n",
        "print(train_loss_list)\n",
        "print(accuracy_list)\n",
        "print(epoches_list)\n",
        "plt.xlabel(\"Epoch\")\n",
        "plt.ylabel(\"Accuracy\")\n",
        "plt.title(\"Accuracuy_Plot\")\n",
        "plt.plot(epoches_list,accuracy_list)\n",
        "plt.show()\n",
        "\n"
      ]
    },
    {
      "cell_type": "code",
      "execution_count": null,
      "metadata": {
        "colab": {
          "background_save": true
        },
        "id": "nTIvDGW-tnLs"
      },
      "outputs": [],
      "source": [
        "plt.plot(epoches_list,detached_tensors1)\n",
        "plt.xlabel(\"Epoch\")\n",
        "plt.title(\"Test_loss v/s Epoch\")\n",
        "plt.ylabel(\"test_loss\")"
      ]
    },
    {
      "cell_type": "code",
      "execution_count": null,
      "metadata": {
        "colab": {
          "background_save": true
        },
        "id": "9PGuRNlEnhNE"
      },
      "outputs": [],
      "source": [
        "plt.plot(epoches_list,detached_tensors2)\n",
        "plt.xlabel(\"Epoch\")\n",
        "\n",
        "plt.title(\"Train_loss v/s Epoch\")\n",
        "plt.ylabel(\"Train_loss\")"
      ]
    },
    {
      "cell_type": "code",
      "execution_count": null,
      "metadata": {
        "colab": {
          "background_save": true
        },
        "id": "L27F7VMwlPzu"
      },
      "outputs": [],
      "source": [
        "image, label = train_data[9]"
      ]
    },
    {
      "cell_type": "code",
      "execution_count": null,
      "metadata": {
        "colab": {
          "background_save": true
        },
        "id": "Z73ZNuBnlUhe"
      },
      "outputs": [],
      "source": [
        "test_samples = [test_data[random.randint(0, len(test_data)-1)][0] for _ in range(9)]\n",
        "test_labels = [test_data[random.randint(0, len(test_data)-1)][1] for _ in range(9)]\n",
        "# print(test_data)\n",
        "# Show a test sample\n",
        "print(\"Feeded Characeter\")\n",
        "\n",
        "show_image(test_samples[0], test_labels[0], class_names)\n",
        "# cv2.imshow(test_samples[0])\n",
        "\n",
        "# Make predictions\n",
        "pred_probs = make_prediction(model_0, test_samples) # Changed FashionMnistV0 to model_0\n",
        "pred_classes = pred_probs.argmax(dim=1)\n",
        "print(f\"Predicted Character: {pred_classes[0]}\")\n"
      ]
    }
  ],
  "metadata": {
    "accelerator": "GPU",
    "colab": {
      "gpuType": "T4",
      "toc_visible": true,
      "provenance": []
    },
    "kernelspec": {
      "display_name": "Python 3",
      "name": "python3"
    },
    "language_info": {
      "name": "python"
    }
  },
  "nbformat": 4,
  "nbformat_minor": 0
}